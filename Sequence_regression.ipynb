{
 "cells": [
  {
   "cell_type": "markdown",
   "id": "ae5b2edd-6f7c-414f-8351-2f9d52e1d23b",
   "metadata": {},
   "source": [
    "### Classification of vibrato type from hand movement sensors"
   ]
  },
  {
   "cell_type": "code",
   "execution_count": 244,
   "id": "6d75e501-9927-4b4f-8091-9b2667f702f0",
   "metadata": {},
   "outputs": [],
   "source": [
    "import numpy as np\n",
    "import scipy\n",
    "import matplotlib.pyplot as plt\n",
    "import os\n",
    "\n",
    "from sklearn.preprocessing import StandardScaler\n",
    "from sklearn.model_selection import train_test_split\n",
    "\n",
    "import tensorflow as tf\n",
    "from tensorflow.keras.datasets import imdb\n",
    "from tensorflow.keras.models import Sequential\n",
    "from tensorflow.keras.layers import Dense\n",
    "from tensorflow.keras.layers import LSTM\n",
    "from tensorflow.keras.layers import Embedding\n",
    "from tensorflow.keras.preprocessing import sequence\n",
    "from tensorflow.keras.utils import to_categorical\n",
    "# fix random seed for reproducibility\n",
    "tf.random.set_seed(666)"
   ]
  },
  {
   "cell_type": "code",
   "execution_count": 245,
   "id": "2b6bd523-f892-4f89-ae91-c3f5c981d4c9",
   "metadata": {},
   "outputs": [
    {
     "name": "stdout",
     "output_type": "stream",
     "text": [
      "Max sequence size: 1142\n",
      "X size: 517\n",
      "y size: 517\n"
     ]
    }
   ],
   "source": [
    "# load all data\n",
    "X = []\n",
    "y = []\n",
    "max_seq_size = 0\n",
    "data_path = \"data-processed\"\n",
    "data_points = [point for point in os.listdir(data_path) if point != '.DS_Store']\n",
    "for dir in data_points:\n",
    "    data_point_path = os.path.join(data_path, dir)\n",
    "    for file_name in os.listdir(data_point_path):\n",
    "        #if file_name.endswith('.npy'):\n",
    "        if file_name.endswith('pre-processed.npy'):\n",
    "            filepath = os.path.join(data_point_path, file_name)\n",
    "            file = np.load(filepath)\n",
    "            if file.shape[1] > max_seq_size:\n",
    "                max_seq_size = file.shape[1]\n",
    "            if file_name.split('-')[3] == 'left':\n",
    "                #print(file_name)\n",
    "                X.append(file)\n",
    "                if file_name.split('-')[1] == 'static':\n",
    "                    y.append(0) # static\n",
    "                if file_name.split('-')[1] == 'vertical':\n",
    "                    y.append(1) # vertical\n",
    "                if file_name.split('-')[1] == 'horizontal':\n",
    "                    #y.append(2) # horizontal\n",
    "                    y.append(1) # horizontal\n",
    "                if file_name.split('-')[1] == 'circular':\n",
    "                    #y.append(3) # circular\n",
    "                    y.append(1) # horizontal\n",
    "print(f'Max sequence size: {max_seq_size}')\n",
    "print(f'X size: {len(X)}')\n",
    "print(f'y size: {len(y)}')"
   ]
  },
  {
   "cell_type": "code",
   "execution_count": 246,
   "id": "918b701e-57e5-4224-b94b-d6c37e6e50c1",
   "metadata": {},
   "outputs": [],
   "source": [
    "# format sequences\n",
    "X_acc_x = np.zeros(len(X), dtype=object)\n",
    "X_acc_y = np.zeros(len(X), dtype=object)\n",
    "X_acc_z = np.zeros(len(X), dtype=object)\n",
    "X_gyro_x = np.zeros(len(X), dtype=object)\n",
    "X_gyro_y = np.zeros(len(X), dtype=object)\n",
    "X_gyro_z = np.zeros(len(X), dtype=object)\n",
    "\n",
    "for i in range(len(X)):\n",
    "    X_acc_x[i] = X[i][0,:].tolist()\n",
    "    X_acc_y[i] = X[i][1,:].tolist()\n",
    "    X_acc_z[i] = X[i][2,:].tolist()\n",
    "    X_gyro_x[i] = X[i][3,:].tolist()\n",
    "    X_gyro_y[i] = X[i][4,:].tolist()\n",
    "    X_gyro_z[i] = X[i][5,:].tolist()"
   ]
  },
  {
   "cell_type": "code",
   "execution_count": 247,
   "id": "3f7ceaf8-d774-44c2-bdf5-24276581e1f2",
   "metadata": {},
   "outputs": [],
   "source": [
    "# pad sequences\n",
    "X_acc_x_padded = sequence.pad_sequences(X_acc_x, maxlen=max_seq_size, dtype='float32', padding='post')\n",
    "X_acc_y_padded = sequence.pad_sequences(X_acc_y, maxlen=max_seq_size, dtype='float32', padding='post')\n",
    "X_acc_z_padded = sequence.pad_sequences(X_acc_z, maxlen=max_seq_size, dtype='float32', padding='post')\n",
    "X_gyro_x_padded = sequence.pad_sequences(X_gyro_x, maxlen=max_seq_size, dtype='float32', padding='post')\n",
    "X_gyro_y_padded = sequence.pad_sequences(X_gyro_y, maxlen=max_seq_size, dtype='float32', padding='post')\n",
    "X_gyro_z_padded = sequence.pad_sequences(X_gyro_z, maxlen=max_seq_size, dtype='float32', padding='post')"
   ]
  },
  {
   "cell_type": "code",
   "execution_count": 248,
   "id": "1840fcf6-633e-4eba-a983-7a81d19e6b6c",
   "metadata": {},
   "outputs": [
    {
     "ename": "ValueError",
     "evalue": "could not broadcast input array from shape (590414,) into shape (517,)",
     "output_type": "error",
     "traceback": [
      "\u001b[0;31m---------------------------------------------------------------------------\u001b[0m",
      "\u001b[0;31mValueError\u001b[0m                                Traceback (most recent call last)",
      "Cell \u001b[0;32mIn[248], line 3\u001b[0m\n\u001b[1;32m      1\u001b[0m \u001b[38;5;66;03m# aggregate and normalize\u001b[39;00m\n\u001b[1;32m      2\u001b[0m X_temp \u001b[38;5;241m=\u001b[39m np\u001b[38;5;241m.\u001b[39mzeros((\u001b[38;5;241m6\u001b[39m, X_acc_x\u001b[38;5;241m.\u001b[39mreshape(\u001b[38;5;241m-\u001b[39m\u001b[38;5;241m1\u001b[39m)\u001b[38;5;241m.\u001b[39mshape[\u001b[38;5;241m0\u001b[39m]))\n\u001b[0;32m----> 3\u001b[0m X_temp[\u001b[38;5;241m0\u001b[39m,:] \u001b[38;5;241m=\u001b[39m X_acc_x_padded\u001b[38;5;241m.\u001b[39mreshape(\u001b[38;5;241m-\u001b[39m\u001b[38;5;241m1\u001b[39m)\n\u001b[1;32m      4\u001b[0m X_temp[\u001b[38;5;241m1\u001b[39m,:] \u001b[38;5;241m=\u001b[39m X_acc_y_padded\u001b[38;5;241m.\u001b[39mreshape(\u001b[38;5;241m-\u001b[39m\u001b[38;5;241m1\u001b[39m)\n\u001b[1;32m      5\u001b[0m X_temp[\u001b[38;5;241m2\u001b[39m,:] \u001b[38;5;241m=\u001b[39m X_acc_z_padded\u001b[38;5;241m.\u001b[39mreshape(\u001b[38;5;241m-\u001b[39m\u001b[38;5;241m1\u001b[39m)\n",
      "\u001b[0;31mValueError\u001b[0m: could not broadcast input array from shape (590414,) into shape (517,)"
     ]
    }
   ],
   "source": [
    "# aggregate and normalize\n",
    "X_temp = np.zeros((6, X_acc_x.reshape(-1).shape[0]))\n",
    "X_temp[0,:] = X_acc_x_padded.reshape(-1)\n",
    "X_temp[1,:] = X_acc_y_padded.reshape(-1)\n",
    "X_temp[2,:] = X_acc_z_padded.reshape(-1)\n",
    "X_temp[3,:] = X_gyro_x_padded.reshape(-1)\n",
    "X_temp[4,:] = X_gyro_y_padded.reshape(-1)\n",
    "X_temp[5,:] = X_gyro_z_padded.reshape(-1)\n",
    "\n",
    "scaler = StandardScaler().fit(X_temp.T)\n",
    "X = []\n",
    "for i in range(X_acc_x_padded.shape[0]):\n",
    "    X_temp = np.zeros((6, X_acc_x_padded.shape[1]))\n",
    "    X_temp[0,:] = X_acc_x_padded[i,:]\n",
    "    X_temp[1,:] = X_acc_y_padded[i,:]\n",
    "    X_temp[2,:] = X_acc_z_padded[i,:]\n",
    "    X_temp[3,:] = X_gyro_x_padded[i,:]\n",
    "    X_temp[4,:] = X_gyro_y_padded[i,:]\n",
    "    X_temp[5,:] = X_gyro_z_padded[i,:]\n",
    "    X_temp = scaler.transform(X_temp.T)\n",
    "    X.append(X_temp) # normalized array of dimensions N_samples, seq_len, num_sensors\n",
    "np.array(X).shape"
   ]
  },
  {
   "cell_type": "code",
   "execution_count": 232,
   "id": "f8a81078-4e6b-42a7-8d91-617d73f03070",
   "metadata": {},
   "outputs": [
    {
     "data": {
      "text/plain": [
       "Text(0.5, 0.98, 'Data point 10')"
      ]
     },
     "execution_count": 232,
     "metadata": {},
     "output_type": "execute_result"
    },
    {
     "data": {
      "image/png": "[encoded data removed]",
      "text/plain": [
       "<Figure size 800x600 with 6 Axes>"
      ]
     },
     "metadata": {},
     "output_type": "display_data"
    }
   ],
   "source": [
    "index = 10\n",
    "\n",
    "fig, ax = plt.subplots(nrows=6, figsize=(8,6))\n",
    "ax[0].plot(X[index][:,0])\n",
    "ax[1].plot(X[index][:,1])\n",
    "ax[2].plot(X[index][:,2])\n",
    "ax[3].plot(X[index][:,3])\n",
    "ax[4].plot(X[index][:,4])\n",
    "ax[5].plot(X[index][:,5])\n",
    "fig.suptitle(f'Data point {index}')"
   ]
  },
  {
   "cell_type": "code",
   "execution_count": 233,
   "id": "8c21e508-0392-4977-b4cc-e27a44ef03fc",
   "metadata": {},
   "outputs": [
    {
     "data": {
      "text/plain": [
       "(517, 1142, 6)"
      ]
     },
     "execution_count": 233,
     "metadata": {},
     "output_type": "execute_result"
    }
   ],
   "source": [
    "np.array(X).shape"
   ]
  },
  {
   "cell_type": "code",
   "execution_count": 234,
   "id": "d91ee819-5c8f-4c0d-a987-ced90e61a7c3",
   "metadata": {},
   "outputs": [],
   "source": [
    "X_train, X_test, y_train, y_test = train_test_split(np.array(X), np.array(y), test_size=0.33, random_state=42)\n",
    "y_train = to_categorical(y_train, num_classes=4) # one-hot encode\n",
    "y_test = to_categorical(y_test, num_classes=4)"
   ]
  },
  {
   "cell_type": "code",
   "execution_count": 1,
   "id": "f24548d9-d38c-4c2c-8a83-b076dd789c5e",
   "metadata": {
    "scrolled": true
   },
   "outputs": [
    {
     "ename": "KeyboardInterrupt",
     "evalue": "",
     "output_type": "error",
     "traceback": [
      "\u001b[0;31m---------------------------------------------------------------------------\u001b[0m",
      "\u001b[0;31mKeyboardInterrupt\u001b[0m                         Traceback (most recent call last)",
      "Cell \u001b[0;32mIn[1], line 1\u001b[0m\n\u001b[0;32m----> 1\u001b[0m \u001b[38;5;28;01mfrom\u001b[39;00m \u001b[38;5;21;01mtensorflow\u001b[39;00m\u001b[38;5;21;01m.\u001b[39;00m\u001b[38;5;21;01mkeras\u001b[39;00m\u001b[38;5;21;01m.\u001b[39;00m\u001b[38;5;21;01mlayers\u001b[39;00m \u001b[38;5;28;01mimport\u001b[39;00m Dropout\n\u001b[1;32m      2\u001b[0m number_of_hidden_units \u001b[38;5;241m=\u001b[39m \u001b[38;5;241m100\u001b[39m\n\u001b[1;32m      3\u001b[0m no_of_epochs \u001b[38;5;241m=\u001b[39m \u001b[38;5;241m1000\u001b[39m\n",
      "File \u001b[0;32m~/anaconda3/envs/RLenv/lib/python3.11/site-packages/tensorflow/__init__.py:48\u001b[0m\n\u001b[1;32m     45\u001b[0m \u001b[38;5;28;01mfrom\u001b[39;00m \u001b[38;5;21;01mtensorflow\u001b[39;00m\u001b[38;5;21;01m.\u001b[39;00m\u001b[38;5;21;01mpython\u001b[39;00m \u001b[38;5;28;01mimport\u001b[39;00m tf2 \u001b[38;5;28;01mas\u001b[39;00m _tf2\n\u001b[1;32m     46\u001b[0m _tf2\u001b[38;5;241m.\u001b[39menable()\n\u001b[0;32m---> 48\u001b[0m \u001b[38;5;28;01mfrom\u001b[39;00m \u001b[38;5;21;01mtensorflow\u001b[39;00m\u001b[38;5;21;01m.\u001b[39;00m\u001b[38;5;21;01m_api\u001b[39;00m\u001b[38;5;21;01m.\u001b[39;00m\u001b[38;5;21;01mv2\u001b[39;00m \u001b[38;5;28;01mimport\u001b[39;00m __internal__\n\u001b[1;32m     49\u001b[0m \u001b[38;5;28;01mfrom\u001b[39;00m \u001b[38;5;21;01mtensorflow\u001b[39;00m\u001b[38;5;21;01m.\u001b[39;00m\u001b[38;5;21;01m_api\u001b[39;00m\u001b[38;5;21;01m.\u001b[39;00m\u001b[38;5;21;01mv2\u001b[39;00m \u001b[38;5;28;01mimport\u001b[39;00m __operators__\n\u001b[1;32m     50\u001b[0m \u001b[38;5;28;01mfrom\u001b[39;00m \u001b[38;5;21;01mtensorflow\u001b[39;00m\u001b[38;5;21;01m.\u001b[39;00m\u001b[38;5;21;01m_api\u001b[39;00m\u001b[38;5;21;01m.\u001b[39;00m\u001b[38;5;21;01mv2\u001b[39;00m \u001b[38;5;28;01mimport\u001b[39;00m audio\n",
      "File \u001b[0;32m~/anaconda3/envs/RLenv/lib/python3.11/site-packages/tensorflow/_api/v2/__internal__/__init__.py:11\u001b[0m\n\u001b[1;32m      9\u001b[0m \u001b[38;5;28;01mfrom\u001b[39;00m \u001b[38;5;21;01mtensorflow\u001b[39;00m\u001b[38;5;21;01m.\u001b[39;00m\u001b[38;5;21;01m_api\u001b[39;00m\u001b[38;5;21;01m.\u001b[39;00m\u001b[38;5;21;01mv2\u001b[39;00m\u001b[38;5;21;01m.\u001b[39;00m\u001b[38;5;21;01m__internal__\u001b[39;00m \u001b[38;5;28;01mimport\u001b[39;00m decorator\n\u001b[1;32m     10\u001b[0m \u001b[38;5;28;01mfrom\u001b[39;00m \u001b[38;5;21;01mtensorflow\u001b[39;00m\u001b[38;5;21;01m.\u001b[39;00m\u001b[38;5;21;01m_api\u001b[39;00m\u001b[38;5;21;01m.\u001b[39;00m\u001b[38;5;21;01mv2\u001b[39;00m\u001b[38;5;21;01m.\u001b[39;00m\u001b[38;5;21;01m__internal__\u001b[39;00m \u001b[38;5;28;01mimport\u001b[39;00m dispatch\n\u001b[0;32m---> 11\u001b[0m \u001b[38;5;28;01mfrom\u001b[39;00m \u001b[38;5;21;01mtensorflow\u001b[39;00m\u001b[38;5;21;01m.\u001b[39;00m\u001b[38;5;21;01m_api\u001b[39;00m\u001b[38;5;21;01m.\u001b[39;00m\u001b[38;5;21;01mv2\u001b[39;00m\u001b[38;5;21;01m.\u001b[39;00m\u001b[38;5;21;01m__internal__\u001b[39;00m \u001b[38;5;28;01mimport\u001b[39;00m distribute\n\u001b[1;32m     12\u001b[0m \u001b[38;5;28;01mfrom\u001b[39;00m \u001b[38;5;21;01mtensorflow\u001b[39;00m\u001b[38;5;21;01m.\u001b[39;00m\u001b[38;5;21;01m_api\u001b[39;00m\u001b[38;5;21;01m.\u001b[39;00m\u001b[38;5;21;01mv2\u001b[39;00m\u001b[38;5;21;01m.\u001b[39;00m\u001b[38;5;21;01m__internal__\u001b[39;00m \u001b[38;5;28;01mimport\u001b[39;00m eager_context\n\u001b[1;32m     13\u001b[0m \u001b[38;5;28;01mfrom\u001b[39;00m \u001b[38;5;21;01mtensorflow\u001b[39;00m\u001b[38;5;21;01m.\u001b[39;00m\u001b[38;5;21;01m_api\u001b[39;00m\u001b[38;5;21;01m.\u001b[39;00m\u001b[38;5;21;01mv2\u001b[39;00m\u001b[38;5;21;01m.\u001b[39;00m\u001b[38;5;21;01m__internal__\u001b[39;00m \u001b[38;5;28;01mimport\u001b[39;00m feature_column\n",
      "File \u001b[0;32m~/anaconda3/envs/RLenv/lib/python3.11/site-packages/tensorflow/_api/v2/__internal__/distribute/__init__.py:8\u001b[0m\n\u001b[1;32m      3\u001b[0m \u001b[38;5;124;03m\"\"\"Public API for tf._api.v2.__internal__.distribute namespace\u001b[39;00m\n\u001b[1;32m      4\u001b[0m \u001b[38;5;124;03m\"\"\"\u001b[39;00m\n\u001b[1;32m      6\u001b[0m \u001b[38;5;28;01mimport\u001b[39;00m \u001b[38;5;21;01msys\u001b[39;00m \u001b[38;5;28;01mas\u001b[39;00m \u001b[38;5;21;01m_sys\u001b[39;00m\n\u001b[0;32m----> 8\u001b[0m \u001b[38;5;28;01mfrom\u001b[39;00m \u001b[38;5;21;01mtensorflow\u001b[39;00m\u001b[38;5;21;01m.\u001b[39;00m\u001b[38;5;21;01m_api\u001b[39;00m\u001b[38;5;21;01m.\u001b[39;00m\u001b[38;5;21;01mv2\u001b[39;00m\u001b[38;5;21;01m.\u001b[39;00m\u001b[38;5;21;01m__internal__\u001b[39;00m\u001b[38;5;21;01m.\u001b[39;00m\u001b[38;5;21;01mdistribute\u001b[39;00m \u001b[38;5;28;01mimport\u001b[39;00m combinations\n\u001b[1;32m      9\u001b[0m \u001b[38;5;28;01mfrom\u001b[39;00m \u001b[38;5;21;01mtensorflow\u001b[39;00m\u001b[38;5;21;01m.\u001b[39;00m\u001b[38;5;21;01m_api\u001b[39;00m\u001b[38;5;21;01m.\u001b[39;00m\u001b[38;5;21;01mv2\u001b[39;00m\u001b[38;5;21;01m.\u001b[39;00m\u001b[38;5;21;01m__internal__\u001b[39;00m\u001b[38;5;21;01m.\u001b[39;00m\u001b[38;5;21;01mdistribute\u001b[39;00m \u001b[38;5;28;01mimport\u001b[39;00m interim\n\u001b[1;32m     10\u001b[0m \u001b[38;5;28;01mfrom\u001b[39;00m \u001b[38;5;21;01mtensorflow\u001b[39;00m\u001b[38;5;21;01m.\u001b[39;00m\u001b[38;5;21;01m_api\u001b[39;00m\u001b[38;5;21;01m.\u001b[39;00m\u001b[38;5;21;01mv2\u001b[39;00m\u001b[38;5;21;01m.\u001b[39;00m\u001b[38;5;21;01m__internal__\u001b[39;00m\u001b[38;5;21;01m.\u001b[39;00m\u001b[38;5;21;01mdistribute\u001b[39;00m \u001b[38;5;28;01mimport\u001b[39;00m multi_process_runner\n",
      "File \u001b[0;32m~/anaconda3/envs/RLenv/lib/python3.11/site-packages/tensorflow/_api/v2/__internal__/distribute/combinations/__init__.py:8\u001b[0m\n\u001b[1;32m      3\u001b[0m \u001b[38;5;124;03m\"\"\"Public API for tf._api.v2.__internal__.distribute.combinations namespace\u001b[39;00m\n\u001b[1;32m      4\u001b[0m \u001b[38;5;124;03m\"\"\"\u001b[39;00m\n\u001b[1;32m      6\u001b[0m \u001b[38;5;28;01mimport\u001b[39;00m \u001b[38;5;21;01msys\u001b[39;00m \u001b[38;5;28;01mas\u001b[39;00m \u001b[38;5;21;01m_sys\u001b[39;00m\n\u001b[0;32m----> 8\u001b[0m \u001b[38;5;28;01mfrom\u001b[39;00m \u001b[38;5;21;01mtensorflow\u001b[39;00m\u001b[38;5;21;01m.\u001b[39;00m\u001b[38;5;21;01mpython\u001b[39;00m\u001b[38;5;21;01m.\u001b[39;00m\u001b[38;5;21;01mdistribute\u001b[39;00m\u001b[38;5;21;01m.\u001b[39;00m\u001b[38;5;21;01mcombinations\u001b[39;00m \u001b[38;5;28;01mimport\u001b[39;00m env \u001b[38;5;66;03m# line: 456\u001b[39;00m\n\u001b[1;32m      9\u001b[0m \u001b[38;5;28;01mfrom\u001b[39;00m \u001b[38;5;21;01mtensorflow\u001b[39;00m\u001b[38;5;21;01m.\u001b[39;00m\u001b[38;5;21;01mpython\u001b[39;00m\u001b[38;5;21;01m.\u001b[39;00m\u001b[38;5;21;01mdistribute\u001b[39;00m\u001b[38;5;21;01m.\u001b[39;00m\u001b[38;5;21;01mcombinations\u001b[39;00m \u001b[38;5;28;01mimport\u001b[39;00m generate \u001b[38;5;66;03m# line: 365\u001b[39;00m\n\u001b[1;32m     10\u001b[0m \u001b[38;5;28;01mfrom\u001b[39;00m \u001b[38;5;21;01mtensorflow\u001b[39;00m\u001b[38;5;21;01m.\u001b[39;00m\u001b[38;5;21;01mpython\u001b[39;00m\u001b[38;5;21;01m.\u001b[39;00m\u001b[38;5;21;01mdistribute\u001b[39;00m\u001b[38;5;21;01m.\u001b[39;00m\u001b[38;5;21;01mcombinations\u001b[39;00m \u001b[38;5;28;01mimport\u001b[39;00m in_main_process \u001b[38;5;66;03m# line: 418\u001b[39;00m\n",
      "File \u001b[0;32m~/anaconda3/envs/RLenv/lib/python3.11/site-packages/tensorflow/python/distribute/combinations.py:33\u001b[0m\n\u001b[1;32m     29\u001b[0m \u001b[38;5;28;01mimport\u001b[39;00m \u001b[38;5;21;01msix\u001b[39;00m\n\u001b[1;32m     32\u001b[0m \u001b[38;5;28;01mfrom\u001b[39;00m \u001b[38;5;21;01mtensorflow\u001b[39;00m\u001b[38;5;21;01m.\u001b[39;00m\u001b[38;5;21;01mpython\u001b[39;00m\u001b[38;5;21;01m.\u001b[39;00m\u001b[38;5;21;01mclient\u001b[39;00m \u001b[38;5;28;01mimport\u001b[39;00m session\n\u001b[0;32m---> 33\u001b[0m \u001b[38;5;28;01mfrom\u001b[39;00m \u001b[38;5;21;01mtensorflow\u001b[39;00m\u001b[38;5;21;01m.\u001b[39;00m\u001b[38;5;21;01mpython\u001b[39;00m\u001b[38;5;21;01m.\u001b[39;00m\u001b[38;5;21;01mdistribute\u001b[39;00m \u001b[38;5;28;01mimport\u001b[39;00m collective_all_reduce_strategy\n\u001b[1;32m     34\u001b[0m \u001b[38;5;28;01mfrom\u001b[39;00m \u001b[38;5;21;01mtensorflow\u001b[39;00m\u001b[38;5;21;01m.\u001b[39;00m\u001b[38;5;21;01mpython\u001b[39;00m\u001b[38;5;21;01m.\u001b[39;00m\u001b[38;5;21;01mdistribute\u001b[39;00m \u001b[38;5;28;01mimport\u001b[39;00m distribute_lib\n\u001b[1;32m     35\u001b[0m \u001b[38;5;28;01mfrom\u001b[39;00m \u001b[38;5;21;01mtensorflow\u001b[39;00m\u001b[38;5;21;01m.\u001b[39;00m\u001b[38;5;21;01mpython\u001b[39;00m\u001b[38;5;21;01m.\u001b[39;00m\u001b[38;5;21;01mdistribute\u001b[39;00m \u001b[38;5;28;01mimport\u001b[39;00m multi_process_runner\n",
      "File \u001b[0;32m~/anaconda3/envs/RLenv/lib/python3.11/site-packages/tensorflow/python/distribute/collective_all_reduce_strategy.py:25\u001b[0m\n\u001b[1;32m     23\u001b[0m \u001b[38;5;28;01mfrom\u001b[39;00m \u001b[38;5;21;01mtensorflow\u001b[39;00m\u001b[38;5;21;01m.\u001b[39;00m\u001b[38;5;21;01mcore\u001b[39;00m\u001b[38;5;21;01m.\u001b[39;00m\u001b[38;5;21;01mprotobuf\u001b[39;00m \u001b[38;5;28;01mimport\u001b[39;00m tensorflow_server_pb2\n\u001b[1;32m     24\u001b[0m \u001b[38;5;28;01mfrom\u001b[39;00m \u001b[38;5;21;01mtensorflow\u001b[39;00m\u001b[38;5;21;01m.\u001b[39;00m\u001b[38;5;21;01mpython\u001b[39;00m\u001b[38;5;21;01m.\u001b[39;00m\u001b[38;5;21;01mdistribute\u001b[39;00m \u001b[38;5;28;01mimport\u001b[39;00m collective_util\n\u001b[0;32m---> 25\u001b[0m \u001b[38;5;28;01mfrom\u001b[39;00m \u001b[38;5;21;01mtensorflow\u001b[39;00m\u001b[38;5;21;01m.\u001b[39;00m\u001b[38;5;21;01mpython\u001b[39;00m\u001b[38;5;21;01m.\u001b[39;00m\u001b[38;5;21;01mdistribute\u001b[39;00m \u001b[38;5;28;01mimport\u001b[39;00m cross_device_ops \u001b[38;5;28;01mas\u001b[39;00m cross_device_ops_lib\n\u001b[1;32m     26\u001b[0m \u001b[38;5;28;01mfrom\u001b[39;00m \u001b[38;5;21;01mtensorflow\u001b[39;00m\u001b[38;5;21;01m.\u001b[39;00m\u001b[38;5;21;01mpython\u001b[39;00m\u001b[38;5;21;01m.\u001b[39;00m\u001b[38;5;21;01mdistribute\u001b[39;00m \u001b[38;5;28;01mimport\u001b[39;00m cross_device_utils\n\u001b[1;32m     27\u001b[0m \u001b[38;5;28;01mfrom\u001b[39;00m \u001b[38;5;21;01mtensorflow\u001b[39;00m\u001b[38;5;21;01m.\u001b[39;00m\u001b[38;5;21;01mpython\u001b[39;00m\u001b[38;5;21;01m.\u001b[39;00m\u001b[38;5;21;01mdistribute\u001b[39;00m \u001b[38;5;28;01mimport\u001b[39;00m device_util\n",
      "File \u001b[0;32m~/anaconda3/envs/RLenv/lib/python3.11/site-packages/tensorflow/python/distribute/cross_device_ops.py:28\u001b[0m\n\u001b[1;32m     26\u001b[0m \u001b[38;5;28;01mfrom\u001b[39;00m \u001b[38;5;21;01mtensorflow\u001b[39;00m\u001b[38;5;21;01m.\u001b[39;00m\u001b[38;5;21;01mpython\u001b[39;00m\u001b[38;5;21;01m.\u001b[39;00m\u001b[38;5;21;01mclient\u001b[39;00m \u001b[38;5;28;01mimport\u001b[39;00m device_lib\n\u001b[1;32m     27\u001b[0m \u001b[38;5;28;01mfrom\u001b[39;00m \u001b[38;5;21;01mtensorflow\u001b[39;00m\u001b[38;5;21;01m.\u001b[39;00m\u001b[38;5;21;01mpython\u001b[39;00m\u001b[38;5;21;01m.\u001b[39;00m\u001b[38;5;21;01mdistribute\u001b[39;00m \u001b[38;5;28;01mimport\u001b[39;00m collective_util\n\u001b[0;32m---> 28\u001b[0m \u001b[38;5;28;01mfrom\u001b[39;00m \u001b[38;5;21;01mtensorflow\u001b[39;00m\u001b[38;5;21;01m.\u001b[39;00m\u001b[38;5;21;01mpython\u001b[39;00m\u001b[38;5;21;01m.\u001b[39;00m\u001b[38;5;21;01mdistribute\u001b[39;00m \u001b[38;5;28;01mimport\u001b[39;00m cross_device_utils\n\u001b[1;32m     29\u001b[0m \u001b[38;5;28;01mfrom\u001b[39;00m \u001b[38;5;21;01mtensorflow\u001b[39;00m\u001b[38;5;21;01m.\u001b[39;00m\u001b[38;5;21;01mpython\u001b[39;00m\u001b[38;5;21;01m.\u001b[39;00m\u001b[38;5;21;01mdistribute\u001b[39;00m \u001b[38;5;28;01mimport\u001b[39;00m device_util\n\u001b[1;32m     30\u001b[0m \u001b[38;5;28;01mfrom\u001b[39;00m \u001b[38;5;21;01mtensorflow\u001b[39;00m\u001b[38;5;21;01m.\u001b[39;00m\u001b[38;5;21;01mpython\u001b[39;00m\u001b[38;5;21;01m.\u001b[39;00m\u001b[38;5;21;01mdistribute\u001b[39;00m \u001b[38;5;28;01mimport\u001b[39;00m distribute_utils\n",
      "File \u001b[0;32m~/anaconda3/envs/RLenv/lib/python3.11/site-packages/tensorflow/python/distribute/cross_device_utils.py:22\u001b[0m\n\u001b[1;32m     19\u001b[0m \u001b[38;5;28;01mfrom\u001b[39;00m \u001b[38;5;21;01mtyping\u001b[39;00m \u001b[38;5;28;01mimport\u001b[39;00m Callable, List, Optional, Union\n\u001b[1;32m     21\u001b[0m \u001b[38;5;28;01mfrom\u001b[39;00m \u001b[38;5;21;01mtensorflow\u001b[39;00m\u001b[38;5;21;01m.\u001b[39;00m\u001b[38;5;21;01mpython\u001b[39;00m\u001b[38;5;21;01m.\u001b[39;00m\u001b[38;5;21;01mdistribute\u001b[39;00m \u001b[38;5;28;01mimport\u001b[39;00m collective_util\n\u001b[0;32m---> 22\u001b[0m \u001b[38;5;28;01mfrom\u001b[39;00m \u001b[38;5;21;01mtensorflow\u001b[39;00m\u001b[38;5;21;01m.\u001b[39;00m\u001b[38;5;21;01mpython\u001b[39;00m\u001b[38;5;21;01m.\u001b[39;00m\u001b[38;5;21;01mdistribute\u001b[39;00m \u001b[38;5;28;01mimport\u001b[39;00m values \u001b[38;5;28;01mas\u001b[39;00m value_lib\n\u001b[1;32m     23\u001b[0m \u001b[38;5;28;01mfrom\u001b[39;00m \u001b[38;5;21;01mtensorflow\u001b[39;00m\u001b[38;5;21;01m.\u001b[39;00m\u001b[38;5;21;01mpython\u001b[39;00m\u001b[38;5;21;01m.\u001b[39;00m\u001b[38;5;21;01meager\u001b[39;00m \u001b[38;5;28;01mimport\u001b[39;00m backprop_util\n\u001b[1;32m     24\u001b[0m \u001b[38;5;28;01mfrom\u001b[39;00m \u001b[38;5;21;01mtensorflow\u001b[39;00m\u001b[38;5;21;01m.\u001b[39;00m\u001b[38;5;21;01mpython\u001b[39;00m\u001b[38;5;21;01m.\u001b[39;00m\u001b[38;5;21;01meager\u001b[39;00m \u001b[38;5;28;01mimport\u001b[39;00m context\n",
      "File \u001b[0;32m~/anaconda3/envs/RLenv/lib/python3.11/site-packages/tensorflow/python/distribute/values.py:23\u001b[0m\n\u001b[1;32m     21\u001b[0m \u001b[38;5;28;01mfrom\u001b[39;00m \u001b[38;5;21;01mtensorflow\u001b[39;00m\u001b[38;5;21;01m.\u001b[39;00m\u001b[38;5;21;01mcore\u001b[39;00m\u001b[38;5;21;01m.\u001b[39;00m\u001b[38;5;21;01mprotobuf\u001b[39;00m \u001b[38;5;28;01mimport\u001b[39;00m struct_pb2\n\u001b[1;32m     22\u001b[0m \u001b[38;5;28;01mfrom\u001b[39;00m \u001b[38;5;21;01mtensorflow\u001b[39;00m\u001b[38;5;21;01m.\u001b[39;00m\u001b[38;5;21;01mpython\u001b[39;00m\u001b[38;5;21;01m.\u001b[39;00m\u001b[38;5;21;01mdistribute\u001b[39;00m \u001b[38;5;28;01mimport\u001b[39;00m device_util\n\u001b[0;32m---> 23\u001b[0m \u001b[38;5;28;01mfrom\u001b[39;00m \u001b[38;5;21;01mtensorflow\u001b[39;00m\u001b[38;5;21;01m.\u001b[39;00m\u001b[38;5;21;01mpython\u001b[39;00m\u001b[38;5;21;01m.\u001b[39;00m\u001b[38;5;21;01mdistribute\u001b[39;00m \u001b[38;5;28;01mimport\u001b[39;00m distribute_lib\n\u001b[1;32m     24\u001b[0m \u001b[38;5;28;01mfrom\u001b[39;00m \u001b[38;5;21;01mtensorflow\u001b[39;00m\u001b[38;5;21;01m.\u001b[39;00m\u001b[38;5;21;01mpython\u001b[39;00m\u001b[38;5;21;01m.\u001b[39;00m\u001b[38;5;21;01mdistribute\u001b[39;00m \u001b[38;5;28;01mimport\u001b[39;00m packed_distributed_variable \u001b[38;5;28;01mas\u001b[39;00m packed\n\u001b[1;32m     25\u001b[0m \u001b[38;5;28;01mfrom\u001b[39;00m \u001b[38;5;21;01mtensorflow\u001b[39;00m\u001b[38;5;21;01m.\u001b[39;00m\u001b[38;5;21;01mpython\u001b[39;00m\u001b[38;5;21;01m.\u001b[39;00m\u001b[38;5;21;01mdistribute\u001b[39;00m \u001b[38;5;28;01mimport\u001b[39;00m reduce_util\n",
      "File \u001b[0;32m~/anaconda3/envs/RLenv/lib/python3.11/site-packages/tensorflow/python/distribute/distribute_lib.py:206\u001b[0m\n\u001b[1;32m    204\u001b[0m \u001b[38;5;28;01mfrom\u001b[39;00m \u001b[38;5;21;01mtensorflow\u001b[39;00m\u001b[38;5;21;01m.\u001b[39;00m\u001b[38;5;21;01mpython\u001b[39;00m\u001b[38;5;21;01m.\u001b[39;00m\u001b[38;5;21;01mautograph\u001b[39;00m\u001b[38;5;21;01m.\u001b[39;00m\u001b[38;5;21;01mcore\u001b[39;00m \u001b[38;5;28;01mimport\u001b[39;00m ag_ctx \u001b[38;5;28;01mas\u001b[39;00m autograph_ctx\n\u001b[1;32m    205\u001b[0m \u001b[38;5;28;01mfrom\u001b[39;00m \u001b[38;5;21;01mtensorflow\u001b[39;00m\u001b[38;5;21;01m.\u001b[39;00m\u001b[38;5;21;01mpython\u001b[39;00m\u001b[38;5;21;01m.\u001b[39;00m\u001b[38;5;21;01mautograph\u001b[39;00m\u001b[38;5;21;01m.\u001b[39;00m\u001b[38;5;21;01mimpl\u001b[39;00m \u001b[38;5;28;01mimport\u001b[39;00m api \u001b[38;5;28;01mas\u001b[39;00m autograph\n\u001b[0;32m--> 206\u001b[0m \u001b[38;5;28;01mfrom\u001b[39;00m \u001b[38;5;21;01mtensorflow\u001b[39;00m\u001b[38;5;21;01m.\u001b[39;00m\u001b[38;5;21;01mpython\u001b[39;00m\u001b[38;5;21;01m.\u001b[39;00m\u001b[38;5;21;01mdata\u001b[39;00m\u001b[38;5;21;01m.\u001b[39;00m\u001b[38;5;21;01mops\u001b[39;00m \u001b[38;5;28;01mimport\u001b[39;00m dataset_ops\n\u001b[1;32m    207\u001b[0m \u001b[38;5;28;01mfrom\u001b[39;00m \u001b[38;5;21;01mtensorflow\u001b[39;00m\u001b[38;5;21;01m.\u001b[39;00m\u001b[38;5;21;01mpython\u001b[39;00m\u001b[38;5;21;01m.\u001b[39;00m\u001b[38;5;21;01mdistribute\u001b[39;00m \u001b[38;5;28;01mimport\u001b[39;00m collective_util\n\u001b[1;32m    208\u001b[0m \u001b[38;5;28;01mfrom\u001b[39;00m \u001b[38;5;21;01mtensorflow\u001b[39;00m\u001b[38;5;21;01m.\u001b[39;00m\u001b[38;5;21;01mpython\u001b[39;00m\u001b[38;5;21;01m.\u001b[39;00m\u001b[38;5;21;01mdistribute\u001b[39;00m \u001b[38;5;28;01mimport\u001b[39;00m device_util\n",
      "File \u001b[0;32m~/anaconda3/envs/RLenv/lib/python3.11/site-packages/tensorflow/python/data/__init__.py:21\u001b[0m\n\u001b[1;32m     15\u001b[0m \u001b[38;5;124;03m\"\"\"`tf.data.Dataset` API for input pipelines.\u001b[39;00m\n\u001b[1;32m     16\u001b[0m \n\u001b[1;32m     17\u001b[0m \u001b[38;5;124;03mSee [Importing Data](https://tensorflow.org/guide/data) for an overview.\u001b[39;00m\n\u001b[1;32m     18\u001b[0m \u001b[38;5;124;03m\"\"\"\u001b[39;00m\n\u001b[1;32m     20\u001b[0m \u001b[38;5;66;03m# pylint: disable=unused-import\u001b[39;00m\n\u001b[0;32m---> 21\u001b[0m \u001b[38;5;28;01mfrom\u001b[39;00m \u001b[38;5;21;01mtensorflow\u001b[39;00m\u001b[38;5;21;01m.\u001b[39;00m\u001b[38;5;21;01mpython\u001b[39;00m\u001b[38;5;21;01m.\u001b[39;00m\u001b[38;5;21;01mdata\u001b[39;00m \u001b[38;5;28;01mimport\u001b[39;00m experimental\n\u001b[1;32m     22\u001b[0m \u001b[38;5;28;01mfrom\u001b[39;00m \u001b[38;5;21;01mtensorflow\u001b[39;00m\u001b[38;5;21;01m.\u001b[39;00m\u001b[38;5;21;01mpython\u001b[39;00m\u001b[38;5;21;01m.\u001b[39;00m\u001b[38;5;21;01mdata\u001b[39;00m\u001b[38;5;21;01m.\u001b[39;00m\u001b[38;5;21;01mops\u001b[39;00m\u001b[38;5;21;01m.\u001b[39;00m\u001b[38;5;21;01mdataset_ops\u001b[39;00m \u001b[38;5;28;01mimport\u001b[39;00m AUTOTUNE\n\u001b[1;32m     23\u001b[0m \u001b[38;5;28;01mfrom\u001b[39;00m \u001b[38;5;21;01mtensorflow\u001b[39;00m\u001b[38;5;21;01m.\u001b[39;00m\u001b[38;5;21;01mpython\u001b[39;00m\u001b[38;5;21;01m.\u001b[39;00m\u001b[38;5;21;01mdata\u001b[39;00m\u001b[38;5;21;01m.\u001b[39;00m\u001b[38;5;21;01mops\u001b[39;00m\u001b[38;5;21;01m.\u001b[39;00m\u001b[38;5;21;01mdataset_ops\u001b[39;00m \u001b[38;5;28;01mimport\u001b[39;00m Dataset\n",
      "File \u001b[0;32m~/anaconda3/envs/RLenv/lib/python3.11/site-packages/tensorflow/python/data/experimental/__init__.py:134\u001b[0m\n\u001b[1;32m    132\u001b[0m \u001b[38;5;28;01mfrom\u001b[39;00m \u001b[38;5;21;01mtensorflow\u001b[39;00m\u001b[38;5;21;01m.\u001b[39;00m\u001b[38;5;21;01mpython\u001b[39;00m\u001b[38;5;21;01m.\u001b[39;00m\u001b[38;5;21;01mdata\u001b[39;00m\u001b[38;5;21;01m.\u001b[39;00m\u001b[38;5;21;01mexperimental\u001b[39;00m\u001b[38;5;21;01m.\u001b[39;00m\u001b[38;5;21;01mops\u001b[39;00m\u001b[38;5;21;01m.\u001b[39;00m\u001b[38;5;21;01mrandom_access\u001b[39;00m \u001b[38;5;28;01mimport\u001b[39;00m at\n\u001b[1;32m    133\u001b[0m \u001b[38;5;28;01mfrom\u001b[39;00m \u001b[38;5;21;01mtensorflow\u001b[39;00m\u001b[38;5;21;01m.\u001b[39;00m\u001b[38;5;21;01mpython\u001b[39;00m\u001b[38;5;21;01m.\u001b[39;00m\u001b[38;5;21;01mdata\u001b[39;00m\u001b[38;5;21;01m.\u001b[39;00m\u001b[38;5;21;01mexperimental\u001b[39;00m\u001b[38;5;21;01m.\u001b[39;00m\u001b[38;5;21;01mops\u001b[39;00m\u001b[38;5;21;01m.\u001b[39;00m\u001b[38;5;21;01mrandom_ops\u001b[39;00m \u001b[38;5;28;01mimport\u001b[39;00m RandomDataset\n\u001b[0;32m--> 134\u001b[0m \u001b[38;5;28;01mfrom\u001b[39;00m \u001b[38;5;21;01mtensorflow\u001b[39;00m\u001b[38;5;21;01m.\u001b[39;00m\u001b[38;5;21;01mpython\u001b[39;00m\u001b[38;5;21;01m.\u001b[39;00m\u001b[38;5;21;01mdata\u001b[39;00m\u001b[38;5;21;01m.\u001b[39;00m\u001b[38;5;21;01mexperimental\u001b[39;00m\u001b[38;5;21;01m.\u001b[39;00m\u001b[38;5;21;01mops\u001b[39;00m\u001b[38;5;21;01m.\u001b[39;00m\u001b[38;5;21;01mreaders\u001b[39;00m \u001b[38;5;28;01mimport\u001b[39;00m CsvDataset\n\u001b[1;32m    135\u001b[0m \u001b[38;5;28;01mfrom\u001b[39;00m \u001b[38;5;21;01mtensorflow\u001b[39;00m\u001b[38;5;21;01m.\u001b[39;00m\u001b[38;5;21;01mpython\u001b[39;00m\u001b[38;5;21;01m.\u001b[39;00m\u001b[38;5;21;01mdata\u001b[39;00m\u001b[38;5;21;01m.\u001b[39;00m\u001b[38;5;21;01mexperimental\u001b[39;00m\u001b[38;5;21;01m.\u001b[39;00m\u001b[38;5;21;01mops\u001b[39;00m\u001b[38;5;21;01m.\u001b[39;00m\u001b[38;5;21;01mreaders\u001b[39;00m \u001b[38;5;28;01mimport\u001b[39;00m make_batched_features_dataset\n\u001b[1;32m    136\u001b[0m \u001b[38;5;28;01mfrom\u001b[39;00m \u001b[38;5;21;01mtensorflow\u001b[39;00m\u001b[38;5;21;01m.\u001b[39;00m\u001b[38;5;21;01mpython\u001b[39;00m\u001b[38;5;21;01m.\u001b[39;00m\u001b[38;5;21;01mdata\u001b[39;00m\u001b[38;5;21;01m.\u001b[39;00m\u001b[38;5;21;01mexperimental\u001b[39;00m\u001b[38;5;21;01m.\u001b[39;00m\u001b[38;5;21;01mops\u001b[39;00m\u001b[38;5;21;01m.\u001b[39;00m\u001b[38;5;21;01mreaders\u001b[39;00m \u001b[38;5;28;01mimport\u001b[39;00m make_csv_dataset\n",
      "File \u001b[0;32m~/anaconda3/envs/RLenv/lib/python3.11/site-packages/tensorflow/python/data/experimental/ops/readers.py:27\u001b[0m\n\u001b[1;32m     25\u001b[0m \u001b[38;5;28;01mfrom\u001b[39;00m \u001b[38;5;21;01mtensorflow\u001b[39;00m\u001b[38;5;21;01m.\u001b[39;00m\u001b[38;5;21;01mpython\u001b[39;00m\u001b[38;5;21;01m.\u001b[39;00m\u001b[38;5;21;01mdata\u001b[39;00m\u001b[38;5;21;01m.\u001b[39;00m\u001b[38;5;21;01mexperimental\u001b[39;00m\u001b[38;5;21;01m.\u001b[39;00m\u001b[38;5;21;01mops\u001b[39;00m \u001b[38;5;28;01mimport\u001b[39;00m parsing_ops\n\u001b[1;32m     26\u001b[0m \u001b[38;5;28;01mfrom\u001b[39;00m \u001b[38;5;21;01mtensorflow\u001b[39;00m\u001b[38;5;21;01m.\u001b[39;00m\u001b[38;5;21;01mpython\u001b[39;00m\u001b[38;5;21;01m.\u001b[39;00m\u001b[38;5;21;01mdata\u001b[39;00m\u001b[38;5;21;01m.\u001b[39;00m\u001b[38;5;21;01mops\u001b[39;00m \u001b[38;5;28;01mimport\u001b[39;00m dataset_ops\n\u001b[0;32m---> 27\u001b[0m \u001b[38;5;28;01mfrom\u001b[39;00m \u001b[38;5;21;01mtensorflow\u001b[39;00m\u001b[38;5;21;01m.\u001b[39;00m\u001b[38;5;21;01mpython\u001b[39;00m\u001b[38;5;21;01m.\u001b[39;00m\u001b[38;5;21;01mdata\u001b[39;00m\u001b[38;5;21;01m.\u001b[39;00m\u001b[38;5;21;01mops\u001b[39;00m \u001b[38;5;28;01mimport\u001b[39;00m map_op\n\u001b[1;32m     28\u001b[0m \u001b[38;5;28;01mfrom\u001b[39;00m \u001b[38;5;21;01mtensorflow\u001b[39;00m\u001b[38;5;21;01m.\u001b[39;00m\u001b[38;5;21;01mpython\u001b[39;00m\u001b[38;5;21;01m.\u001b[39;00m\u001b[38;5;21;01mdata\u001b[39;00m\u001b[38;5;21;01m.\u001b[39;00m\u001b[38;5;21;01mops\u001b[39;00m \u001b[38;5;28;01mimport\u001b[39;00m options \u001b[38;5;28;01mas\u001b[39;00m options_lib\n\u001b[1;32m     29\u001b[0m \u001b[38;5;28;01mfrom\u001b[39;00m \u001b[38;5;21;01mtensorflow\u001b[39;00m\u001b[38;5;21;01m.\u001b[39;00m\u001b[38;5;21;01mpython\u001b[39;00m\u001b[38;5;21;01m.\u001b[39;00m\u001b[38;5;21;01mdata\u001b[39;00m\u001b[38;5;21;01m.\u001b[39;00m\u001b[38;5;21;01mops\u001b[39;00m \u001b[38;5;28;01mimport\u001b[39;00m readers \u001b[38;5;28;01mas\u001b[39;00m core_readers\n",
      "File \u001b[0;32m<frozen importlib._bootstrap>:1176\u001b[0m, in \u001b[0;36m_find_and_load\u001b[0;34m(name, import_)\u001b[0m\n",
      "File \u001b[0;32m<frozen importlib._bootstrap>:1147\u001b[0m, in \u001b[0;36m_find_and_load_unlocked\u001b[0;34m(name, import_)\u001b[0m\n",
      "File \u001b[0;32m<frozen importlib._bootstrap>:690\u001b[0m, in \u001b[0;36m_load_unlocked\u001b[0;34m(spec)\u001b[0m\n",
      "File \u001b[0;32m<frozen importlib._bootstrap_external>:936\u001b[0m, in \u001b[0;36mexec_module\u001b[0;34m(self, module)\u001b[0m\n",
      "File \u001b[0;32m<frozen importlib._bootstrap_external>:1032\u001b[0m, in \u001b[0;36mget_code\u001b[0;34m(self, fullname)\u001b[0m\n",
      "File \u001b[0;32m<frozen importlib._bootstrap_external>:1130\u001b[0m, in \u001b[0;36mget_data\u001b[0;34m(self, path)\u001b[0m\n",
      "\u001b[0;31mKeyboardInterrupt\u001b[0m: "
     ]
    }
   ],
   "source": [
    "from tensorflow.keras.layers import Dropout\n",
    "number_of_hidden_units = 100\n",
    "no_of_epochs = 1000\n",
    "batch_size = 128\n",
    "\n",
    "model = Sequential()\n",
    "model.add(LSTM(number_of_hidden_units, activation='tanh', input_shape=(max_seq_size, 6))) \n",
    "model.add(Dense(1)) #since number of output classes is 4\n",
    "model.compile(loss='mean_squared_error', optimizer='adam')\n",
    "model.summary()\n",
    "model.fit(X_train, y_train, validation_data=(X_test, y_test), epochs=no_of_epochs, batch_size=batch_size)"
   ]
  },
  {
   "cell_type": "code",
   "execution_count": 235,
   "id": "d82cc77c-e513-4804-9601-5aea9fdc4733",
   "metadata": {},
   "outputs": [
    {
     "name": "stdout",
     "output_type": "stream",
     "text": [
      "Model: \"sequential_34\"\n",
      "_________________________________________________________________\n",
      " Layer (type)                Output Shape              Param #   \n",
      "=================================================================\n",
      " lstm_34 (LSTM)              (None, 256)               269312    \n",
      "                                                                 \n",
      " dense_46 (Dense)            (None, 4)                 1028      \n",
      "                                                                 \n",
      "=================================================================\n",
      "Total params: 270340 (1.03 MB)\n",
      "Trainable params: 270340 (1.03 MB)\n",
      "Non-trainable params: 0 (0.00 Byte)\n",
      "_________________________________________________________________\n"
     ]
    },
    {
     "name": "stderr",
     "output_type": "stream",
     "text": [
      "WARNING:absl:At this time, the v2.11+ optimizer `tf.keras.optimizers.Adam` runs slowly on M1/M2 Macs, please use the legacy Keras optimizer instead, located at `tf.keras.optimizers.legacy.Adam`.\n",
      "WARNING:absl:`lr` is deprecated in Keras optimizer, please use `learning_rate` or use the legacy optimizer, e.g.,tf.keras.optimizers.legacy.Adam.\n"
     ]
    },
    {
     "name": "stdout",
     "output_type": "stream",
     "text": [
      "Epoch 1/200\n",
      "3/3 [==============================] - ETA: 0s - loss: 0.6043 - accuracy: 0.7601WARNING:tensorflow:Can save best model only with val_acc available, skipping.\n"
     ]
    },
    {
     "name": "stderr",
     "output_type": "stream",
     "text": [
      "WARNING:tensorflow:Can save best model only with val_acc available, skipping.\n"
     ]
    },
    {
     "name": "stdout",
     "output_type": "stream",
     "text": [
      "3/3 [==============================] - 9s 3s/step - loss: 0.6043 - accuracy: 0.7601 - val_loss: 0.4502 - val_accuracy: 0.7427\n",
      "Epoch 2/200\n",
      "3/3 [==============================] - ETA: 0s - loss: 0.3746 - accuracy: 0.7572WARNING:tensorflow:Can save best model only with val_acc available, skipping.\n"
     ]
    },
    {
     "name": "stderr",
     "output_type": "stream",
     "text": [
      "WARNING:tensorflow:Can save best model only with val_acc available, skipping.\n"
     ]
    },
    {
     "name": "stdout",
     "output_type": "stream",
     "text": [
      "3/3 [==============================] - 8s 3s/step - loss: 0.3746 - accuracy: 0.7572 - val_loss: 0.3078 - val_accuracy: 0.7427\n",
      "Epoch 3/200\n",
      "3/3 [==============================] - ETA: 0s - loss: 0.2986 - accuracy: 0.7514WARNING:tensorflow:Can save best model only with val_acc available, skipping.\n"
     ]
    },
    {
     "name": "stderr",
     "output_type": "stream",
     "text": [
      "WARNING:tensorflow:Can save best model only with val_acc available, skipping.\n"
     ]
    },
    {
     "name": "stdout",
     "output_type": "stream",
     "text": [
      "3/3 [==============================] - 8s 3s/step - loss: 0.2986 - accuracy: 0.7514 - val_loss: 0.2927 - val_accuracy: 0.7368\n",
      "Epoch 4/200\n",
      "3/3 [==============================] - ETA: 0s - loss: 0.2942 - accuracy: 0.7514WARNING:tensorflow:Can save best model only with val_acc available, skipping.\n"
     ]
    },
    {
     "name": "stderr",
     "output_type": "stream",
     "text": [
      "WARNING:tensorflow:Can save best model only with val_acc available, skipping.\n"
     ]
    },
    {
     "name": "stdout",
     "output_type": "stream",
     "text": [
      "3/3 [==============================] - 8s 3s/step - loss: 0.2942 - accuracy: 0.7514 - val_loss: 0.2937 - val_accuracy: 0.7368\n",
      "Epoch 5/200\n",
      "3/3 [==============================] - ETA: 0s - loss: 0.2920 - accuracy: 0.7514WARNING:tensorflow:Can save best model only with val_acc available, skipping.\n"
     ]
    },
    {
     "name": "stderr",
     "output_type": "stream",
     "text": [
      "WARNING:tensorflow:Can save best model only with val_acc available, skipping.\n"
     ]
    },
    {
     "name": "stdout",
     "output_type": "stream",
     "text": [
      "3/3 [==============================] - 8s 3s/step - loss: 0.2920 - accuracy: 0.7514 - val_loss: 0.2937 - val_accuracy: 0.7368\n",
      "Epoch 6/200\n",
      "3/3 [==============================] - ETA: 0s - loss: 0.2898 - accuracy: 0.7514WARNING:tensorflow:Can save best model only with val_acc available, skipping.\n"
     ]
    },
    {
     "name": "stderr",
     "output_type": "stream",
     "text": [
      "WARNING:tensorflow:Can save best model only with val_acc available, skipping.\n"
     ]
    },
    {
     "name": "stdout",
     "output_type": "stream",
     "text": [
      "3/3 [==============================] - 8s 3s/step - loss: 0.2898 - accuracy: 0.7514 - val_loss: 0.2941 - val_accuracy: 0.7368\n",
      "Epoch 7/200\n",
      "3/3 [==============================] - ETA: 0s - loss: 0.2875 - accuracy: 0.7514WARNING:tensorflow:Can save best model only with val_acc available, skipping.\n"
     ]
    },
    {
     "name": "stderr",
     "output_type": "stream",
     "text": [
      "WARNING:tensorflow:Can save best model only with val_acc available, skipping.\n"
     ]
    },
    {
     "name": "stdout",
     "output_type": "stream",
     "text": [
      "3/3 [==============================] - 8s 3s/step - loss: 0.2875 - accuracy: 0.7514 - val_loss: 0.2900 - val_accuracy: 0.7368\n",
      "Epoch 8/200\n",
      "3/3 [==============================] - ETA: 0s - loss: 0.2824 - accuracy: 0.7543WARNING:tensorflow:Can save best model only with val_acc available, skipping.\n"
     ]
    },
    {
     "name": "stderr",
     "output_type": "stream",
     "text": [
      "WARNING:tensorflow:Can save best model only with val_acc available, skipping.\n"
     ]
    },
    {
     "name": "stdout",
     "output_type": "stream",
     "text": [
      "3/3 [==============================] - 8s 3s/step - loss: 0.2824 - accuracy: 0.7543 - val_loss: 0.2880 - val_accuracy: 0.7427\n",
      "Epoch 9/200\n",
      "3/3 [==============================] - ETA: 0s - loss: 0.2814 - accuracy: 0.7572WARNING:tensorflow:Can save best model only with val_acc available, skipping.\n"
     ]
    },
    {
     "name": "stderr",
     "output_type": "stream",
     "text": [
      "WARNING:tensorflow:Can save best model only with val_acc available, skipping.\n"
     ]
    },
    {
     "name": "stdout",
     "output_type": "stream",
     "text": [
      "3/3 [==============================] - 8s 3s/step - loss: 0.2814 - accuracy: 0.7572 - val_loss: 0.2857 - val_accuracy: 0.7427\n",
      "Epoch 10/200\n",
      "3/3 [==============================] - ETA: 0s - loss: 0.2779 - accuracy: 0.7601WARNING:tensorflow:Can save best model only with val_acc available, skipping.\n"
     ]
    },
    {
     "name": "stderr",
     "output_type": "stream",
     "text": [
      "WARNING:tensorflow:Can save best model only with val_acc available, skipping.\n"
     ]
    },
    {
     "name": "stdout",
     "output_type": "stream",
     "text": [
      "3/3 [==============================] - 8s 3s/step - loss: 0.2779 - accuracy: 0.7601 - val_loss: 0.2879 - val_accuracy: 0.7427\n",
      "Epoch 11/200\n",
      "3/3 [==============================] - ETA: 0s - loss: 0.2754 - accuracy: 0.7630WARNING:tensorflow:Can save best model only with val_acc available, skipping.\n"
     ]
    },
    {
     "name": "stderr",
     "output_type": "stream",
     "text": [
      "WARNING:tensorflow:Can save best model only with val_acc available, skipping.\n"
     ]
    },
    {
     "name": "stdout",
     "output_type": "stream",
     "text": [
      "3/3 [==============================] - 8s 3s/step - loss: 0.2754 - accuracy: 0.7630 - val_loss: 0.2874 - val_accuracy: 0.7427\n",
      "Epoch 12/200\n",
      "3/3 [==============================] - ETA: 0s - loss: 0.2736 - accuracy: 0.7659WARNING:tensorflow:Can save best model only with val_acc available, skipping.\n"
     ]
    },
    {
     "name": "stderr",
     "output_type": "stream",
     "text": [
      "WARNING:tensorflow:Can save best model only with val_acc available, skipping.\n"
     ]
    },
    {
     "name": "stdout",
     "output_type": "stream",
     "text": [
      "3/3 [==============================] - 7s 3s/step - loss: 0.2736 - accuracy: 0.7659 - val_loss: 0.2858 - val_accuracy: 0.7427\n",
      "Epoch 13/200\n",
      "3/3 [==============================] - ETA: 0s - loss: 0.2742 - accuracy: 0.7630WARNING:tensorflow:Can save best model only with val_acc available, skipping.\n"
     ]
    },
    {
     "name": "stderr",
     "output_type": "stream",
     "text": [
      "WARNING:tensorflow:Can save best model only with val_acc available, skipping.\n"
     ]
    },
    {
     "name": "stdout",
     "output_type": "stream",
     "text": [
      "3/3 [==============================] - 8s 3s/step - loss: 0.2742 - accuracy: 0.7630 - val_loss: 0.2854 - val_accuracy: 0.7427\n",
      "Epoch 14/200\n",
      "3/3 [==============================] - ETA: 0s - loss: 0.2749 - accuracy: 0.7630WARNING:tensorflow:Can save best model only with val_acc available, skipping.\n"
     ]
    },
    {
     "name": "stderr",
     "output_type": "stream",
     "text": [
      "WARNING:tensorflow:Can save best model only with val_acc available, skipping.\n"
     ]
    },
    {
     "name": "stdout",
     "output_type": "stream",
     "text": [
      "3/3 [==============================] - 8s 3s/step - loss: 0.2749 - accuracy: 0.7630 - val_loss: 0.2854 - val_accuracy: 0.7427\n",
      "Epoch 15/200\n",
      "3/3 [==============================] - ETA: 0s - loss: 0.2750 - accuracy: 0.7630WARNING:tensorflow:Can save best model only with val_acc available, skipping.\n"
     ]
    },
    {
     "name": "stderr",
     "output_type": "stream",
     "text": [
      "WARNING:tensorflow:Can save best model only with val_acc available, skipping.\n"
     ]
    },
    {
     "name": "stdout",
     "output_type": "stream",
     "text": [
      "3/3 [==============================] - 8s 3s/step - loss: 0.2750 - accuracy: 0.7630 - val_loss: 0.2860 - val_accuracy: 0.7427\n",
      "Epoch 16/200\n",
      "3/3 [==============================] - ETA: 0s - loss: 0.2739 - accuracy: 0.7630WARNING:tensorflow:Can save best model only with val_acc available, skipping.\n"
     ]
    },
    {
     "name": "stderr",
     "output_type": "stream",
     "text": [
      "WARNING:tensorflow:Can save best model only with val_acc available, skipping.\n"
     ]
    },
    {
     "name": "stdout",
     "output_type": "stream",
     "text": [
      "3/3 [==============================] - 7s 3s/step - loss: 0.2739 - accuracy: 0.7630 - val_loss: 0.2867 - val_accuracy: 0.7427\n",
      "Epoch 17/200\n",
      "3/3 [==============================] - ETA: 0s - loss: 0.2742 - accuracy: 0.7630WARNING:tensorflow:Can save best model only with val_acc available, skipping.\n"
     ]
    },
    {
     "name": "stderr",
     "output_type": "stream",
     "text": [
      "WARNING:tensorflow:Can save best model only with val_acc available, skipping.\n"
     ]
    },
    {
     "name": "stdout",
     "output_type": "stream",
     "text": [
      "3/3 [==============================] - 8s 3s/step - loss: 0.2742 - accuracy: 0.7630 - val_loss: 0.2865 - val_accuracy: 0.7427\n",
      "Epoch 18/200\n",
      "3/3 [==============================] - ETA: 0s - loss: 0.2745 - accuracy: 0.7630WARNING:tensorflow:Can save best model only with val_acc available, skipping.\n"
     ]
    },
    {
     "name": "stderr",
     "output_type": "stream",
     "text": [
      "WARNING:tensorflow:Can save best model only with val_acc available, skipping.\n"
     ]
    },
    {
     "name": "stdout",
     "output_type": "stream",
     "text": [
      "3/3 [==============================] - 8s 3s/step - loss: 0.2745 - accuracy: 0.7630 - val_loss: 0.2855 - val_accuracy: 0.7427\n",
      "Epoch 19/200\n",
      "3/3 [==============================] - ETA: 0s - loss: 0.2744 - accuracy: 0.7630WARNING:tensorflow:Can save best model only with val_acc available, skipping.\n"
     ]
    },
    {
     "name": "stderr",
     "output_type": "stream",
     "text": [
      "WARNING:tensorflow:Can save best model only with val_acc available, skipping.\n"
     ]
    },
    {
     "name": "stdout",
     "output_type": "stream",
     "text": [
      "3/3 [==============================] - 7s 3s/step - loss: 0.2744 - accuracy: 0.7630 - val_loss: 0.2855 - val_accuracy: 0.7427\n",
      "Epoch 20/200\n",
      "3/3 [==============================] - ETA: 0s - loss: 0.2739 - accuracy: 0.7630WARNING:tensorflow:Can save best model only with val_acc available, skipping.\n"
     ]
    },
    {
     "name": "stderr",
     "output_type": "stream",
     "text": [
      "WARNING:tensorflow:Can save best model only with val_acc available, skipping.\n"
     ]
    },
    {
     "name": "stdout",
     "output_type": "stream",
     "text": [
      "3/3 [==============================] - 8s 3s/step - loss: 0.2739 - accuracy: 0.7630 - val_loss: 0.2865 - val_accuracy: 0.7427\n",
      "Epoch 21/200\n",
      "3/3 [==============================] - ETA: 0s - loss: 0.2758 - accuracy: 0.7630WARNING:tensorflow:Can save best model only with val_acc available, skipping.\n"
     ]
    },
    {
     "name": "stderr",
     "output_type": "stream",
     "text": [
      "WARNING:tensorflow:Can save best model only with val_acc available, skipping.\n"
     ]
    },
    {
     "name": "stdout",
     "output_type": "stream",
     "text": [
      "3/3 [==============================] - 7s 2s/step - loss: 0.2758 - accuracy: 0.7630 - val_loss: 0.2895 - val_accuracy: 0.7427\n",
      "Epoch 22/200\n",
      "3/3 [==============================] - ETA: 0s - loss: 0.2750 - accuracy: 0.7630WARNING:tensorflow:Can save best model only with val_acc available, skipping.\n"
     ]
    },
    {
     "name": "stderr",
     "output_type": "stream",
     "text": [
      "WARNING:tensorflow:Can save best model only with val_acc available, skipping.\n"
     ]
    },
    {
     "name": "stdout",
     "output_type": "stream",
     "text": [
      "3/3 [==============================] - 7s 3s/step - loss: 0.2750 - accuracy: 0.7630 - val_loss: 0.2857 - val_accuracy: 0.7427\n",
      "Epoch 23/200\n",
      "3/3 [==============================] - ETA: 0s - loss: 0.2750 - accuracy: 0.7630WARNING:tensorflow:Can save best model only with val_acc available, skipping.\n"
     ]
    },
    {
     "name": "stderr",
     "output_type": "stream",
     "text": [
      "WARNING:tensorflow:Can save best model only with val_acc available, skipping.\n"
     ]
    },
    {
     "name": "stdout",
     "output_type": "stream",
     "text": [
      "3/3 [==============================] - 7s 2s/step - loss: 0.2750 - accuracy: 0.7630 - val_loss: 0.2853 - val_accuracy: 0.7427\n",
      "Epoch 24/200\n",
      "3/3 [==============================] - ETA: 0s - loss: 0.2747 - accuracy: 0.7630WARNING:tensorflow:Can save best model only with val_acc available, skipping.\n"
     ]
    },
    {
     "name": "stderr",
     "output_type": "stream",
     "text": [
      "WARNING:tensorflow:Can save best model only with val_acc available, skipping.\n"
     ]
    },
    {
     "name": "stdout",
     "output_type": "stream",
     "text": [
      "3/3 [==============================] - 7s 3s/step - loss: 0.2747 - accuracy: 0.7630 - val_loss: 0.2854 - val_accuracy: 0.7427\n",
      "Epoch 25/200\n",
      "3/3 [==============================] - ETA: 0s - loss: 0.2744 - accuracy: 0.7630WARNING:tensorflow:Can save best model only with val_acc available, skipping.\n"
     ]
    },
    {
     "name": "stderr",
     "output_type": "stream",
     "text": [
      "WARNING:tensorflow:Can save best model only with val_acc available, skipping.\n"
     ]
    },
    {
     "name": "stdout",
     "output_type": "stream",
     "text": [
      "3/3 [==============================] - 7s 2s/step - loss: 0.2744 - accuracy: 0.7630 - val_loss: 0.2881 - val_accuracy: 0.7427\n",
      "Epoch 26/200\n",
      "3/3 [==============================] - ETA: 0s - loss: 0.2750 - accuracy: 0.7630WARNING:tensorflow:Can save best model only with val_acc available, skipping.\n"
     ]
    },
    {
     "name": "stderr",
     "output_type": "stream",
     "text": [
      "WARNING:tensorflow:Can save best model only with val_acc available, skipping.\n"
     ]
    },
    {
     "name": "stdout",
     "output_type": "stream",
     "text": [
      "3/3 [==============================] - 7s 2s/step - loss: 0.2750 - accuracy: 0.7630 - val_loss: 0.2869 - val_accuracy: 0.7427\n",
      "Epoch 27/200\n",
      "3/3 [==============================] - ETA: 0s - loss: 0.2740 - accuracy: 0.7630WARNING:tensorflow:Can save best model only with val_acc available, skipping.\n"
     ]
    },
    {
     "name": "stderr",
     "output_type": "stream",
     "text": [
      "WARNING:tensorflow:Can save best model only with val_acc available, skipping.\n"
     ]
    },
    {
     "name": "stdout",
     "output_type": "stream",
     "text": [
      "3/3 [==============================] - 7s 2s/step - loss: 0.2740 - accuracy: 0.7630 - val_loss: 0.2856 - val_accuracy: 0.7427\n",
      "Epoch 28/200\n",
      "3/3 [==============================] - ETA: 0s - loss: 0.2746 - accuracy: 0.7630WARNING:tensorflow:Can save best model only with val_acc available, skipping.\n"
     ]
    },
    {
     "name": "stderr",
     "output_type": "stream",
     "text": [
      "WARNING:tensorflow:Can save best model only with val_acc available, skipping.\n"
     ]
    },
    {
     "name": "stdout",
     "output_type": "stream",
     "text": [
      "3/3 [==============================] - 7s 3s/step - loss: 0.2746 - accuracy: 0.7630 - val_loss: 0.2853 - val_accuracy: 0.7427\n",
      "Epoch 29/200\n",
      "3/3 [==============================] - ETA: 0s - loss: 0.2758 - accuracy: 0.7630WARNING:tensorflow:Can save best model only with val_acc available, skipping.\n"
     ]
    },
    {
     "name": "stderr",
     "output_type": "stream",
     "text": [
      "WARNING:tensorflow:Can save best model only with val_acc available, skipping.\n"
     ]
    },
    {
     "name": "stdout",
     "output_type": "stream",
     "text": [
      "3/3 [==============================] - 7s 3s/step - loss: 0.2758 - accuracy: 0.7630 - val_loss: 0.2855 - val_accuracy: 0.7427\n",
      "Epoch 30/200\n",
      "3/3 [==============================] - ETA: 0s - loss: 0.2747 - accuracy: 0.7630WARNING:tensorflow:Can save best model only with val_acc available, skipping.\n"
     ]
    },
    {
     "name": "stderr",
     "output_type": "stream",
     "text": [
      "WARNING:tensorflow:Can save best model only with val_acc available, skipping.\n"
     ]
    },
    {
     "name": "stdout",
     "output_type": "stream",
     "text": [
      "3/3 [==============================] - 6s 2s/step - loss: 0.2747 - accuracy: 0.7630 - val_loss: 0.2858 - val_accuracy: 0.7427\n",
      "Epoch 31/200\n",
      "3/3 [==============================] - ETA: 0s - loss: 0.2752 - accuracy: 0.7630WARNING:tensorflow:Can save best model only with val_acc available, skipping.\n"
     ]
    },
    {
     "name": "stderr",
     "output_type": "stream",
     "text": [
      "WARNING:tensorflow:Can save best model only with val_acc available, skipping.\n"
     ]
    },
    {
     "name": "stdout",
     "output_type": "stream",
     "text": [
      "3/3 [==============================] - 7s 3s/step - loss: 0.2752 - accuracy: 0.7630 - val_loss: 0.2890 - val_accuracy: 0.7427\n",
      "Epoch 32/200\n",
      "3/3 [==============================] - ETA: 0s - loss: 0.2752 - accuracy: 0.7630WARNING:tensorflow:Can save best model only with val_acc available, skipping.\n"
     ]
    },
    {
     "name": "stderr",
     "output_type": "stream",
     "text": [
      "WARNING:tensorflow:Can save best model only with val_acc available, skipping.\n"
     ]
    },
    {
     "name": "stdout",
     "output_type": "stream",
     "text": [
      "3/3 [==============================] - 6s 2s/step - loss: 0.2752 - accuracy: 0.7630 - val_loss: 0.2867 - val_accuracy: 0.7427\n",
      "Epoch 33/200\n",
      "3/3 [==============================] - ETA: 0s - loss: 0.2748 - accuracy: 0.7630WARNING:tensorflow:Can save best model only with val_acc available, skipping.\n"
     ]
    },
    {
     "name": "stderr",
     "output_type": "stream",
     "text": [
      "WARNING:tensorflow:Can save best model only with val_acc available, skipping.\n"
     ]
    },
    {
     "name": "stdout",
     "output_type": "stream",
     "text": [
      "3/3 [==============================] - 7s 2s/step - loss: 0.2748 - accuracy: 0.7630 - val_loss: 0.2853 - val_accuracy: 0.7427\n",
      "Epoch 34/200\n",
      "3/3 [==============================] - ETA: 0s - loss: 0.2741 - accuracy: 0.7630WARNING:tensorflow:Can save best model only with val_acc available, skipping.\n"
     ]
    },
    {
     "name": "stderr",
     "output_type": "stream",
     "text": [
      "WARNING:tensorflow:Can save best model only with val_acc available, skipping.\n"
     ]
    },
    {
     "name": "stdout",
     "output_type": "stream",
     "text": [
      "3/3 [==============================] - 7s 3s/step - loss: 0.2741 - accuracy: 0.7630 - val_loss: 0.2856 - val_accuracy: 0.7427\n",
      "Epoch 35/200\n",
      "3/3 [==============================] - ETA: 0s - loss: 0.2740 - accuracy: 0.7630WARNING:tensorflow:Can save best model only with val_acc available, skipping.\n"
     ]
    },
    {
     "name": "stderr",
     "output_type": "stream",
     "text": [
      "WARNING:tensorflow:Can save best model only with val_acc available, skipping.\n"
     ]
    },
    {
     "name": "stdout",
     "output_type": "stream",
     "text": [
      "3/3 [==============================] - 7s 3s/step - loss: 0.2740 - accuracy: 0.7630 - val_loss: 0.2865 - val_accuracy: 0.7427\n",
      "Epoch 36/200\n",
      "3/3 [==============================] - ETA: 0s - loss: 0.2743 - accuracy: 0.7630WARNING:tensorflow:Can save best model only with val_acc available, skipping.\n"
     ]
    },
    {
     "name": "stderr",
     "output_type": "stream",
     "text": [
      "WARNING:tensorflow:Can save best model only with val_acc available, skipping.\n"
     ]
    },
    {
     "name": "stdout",
     "output_type": "stream",
     "text": [
      "3/3 [==============================] - 8s 3s/step - loss: 0.2743 - accuracy: 0.7630 - val_loss: 0.2862 - val_accuracy: 0.7427\n",
      "Epoch 37/200\n",
      "3/3 [==============================] - ETA: 0s - loss: 0.2739 - accuracy: 0.7630WARNING:tensorflow:Can save best model only with val_acc available, skipping.\n"
     ]
    },
    {
     "name": "stderr",
     "output_type": "stream",
     "text": [
      "WARNING:tensorflow:Can save best model only with val_acc available, skipping.\n"
     ]
    },
    {
     "name": "stdout",
     "output_type": "stream",
     "text": [
      "3/3 [==============================] - 7s 3s/step - loss: 0.2739 - accuracy: 0.7630 - val_loss: 0.2860 - val_accuracy: 0.7427\n",
      "Epoch 38/200\n",
      "3/3 [==============================] - ETA: 0s - loss: 0.2738 - accuracy: 0.7630WARNING:tensorflow:Can save best model only with val_acc available, skipping.\n"
     ]
    },
    {
     "name": "stderr",
     "output_type": "stream",
     "text": [
      "WARNING:tensorflow:Can save best model only with val_acc available, skipping.\n"
     ]
    },
    {
     "name": "stdout",
     "output_type": "stream",
     "text": [
      "3/3 [==============================] - 8s 3s/step - loss: 0.2738 - accuracy: 0.7630 - val_loss: 0.2855 - val_accuracy: 0.7427\n",
      "Epoch 39/200\n",
      "3/3 [==============================] - ETA: 0s - loss: 0.2741 - accuracy: 0.7630WARNING:tensorflow:Can save best model only with val_acc available, skipping.\n"
     ]
    },
    {
     "name": "stderr",
     "output_type": "stream",
     "text": [
      "WARNING:tensorflow:Can save best model only with val_acc available, skipping.\n"
     ]
    },
    {
     "name": "stdout",
     "output_type": "stream",
     "text": [
      "3/3 [==============================] - 7s 3s/step - loss: 0.2741 - accuracy: 0.7630 - val_loss: 0.2855 - val_accuracy: 0.7427\n",
      "Epoch 40/200\n",
      "3/3 [==============================] - ETA: 0s - loss: 0.2739 - accuracy: 0.7630WARNING:tensorflow:Can save best model only with val_acc available, skipping.\n"
     ]
    },
    {
     "name": "stderr",
     "output_type": "stream",
     "text": [
      "WARNING:tensorflow:Can save best model only with val_acc available, skipping.\n"
     ]
    },
    {
     "name": "stdout",
     "output_type": "stream",
     "text": [
      "3/3 [==============================] - 8s 3s/step - loss: 0.2739 - accuracy: 0.7630 - val_loss: 0.2855 - val_accuracy: 0.7427\n",
      "Epoch 41/200\n",
      "3/3 [==============================] - ETA: 0s - loss: 0.2740 - accuracy: 0.7630WARNING:tensorflow:Can save best model only with val_acc available, skipping.\n"
     ]
    },
    {
     "name": "stderr",
     "output_type": "stream",
     "text": [
      "WARNING:tensorflow:Can save best model only with val_acc available, skipping.\n"
     ]
    },
    {
     "name": "stdout",
     "output_type": "stream",
     "text": [
      "3/3 [==============================] - 7s 3s/step - loss: 0.2740 - accuracy: 0.7630 - val_loss: 0.2856 - val_accuracy: 0.7427\n",
      "Epoch 42/200\n",
      "3/3 [==============================] - ETA: 0s - loss: 0.2748 - accuracy: 0.7630WARNING:tensorflow:Can save best model only with val_acc available, skipping.\n"
     ]
    },
    {
     "name": "stderr",
     "output_type": "stream",
     "text": [
      "WARNING:tensorflow:Can save best model only with val_acc available, skipping.\n"
     ]
    },
    {
     "name": "stdout",
     "output_type": "stream",
     "text": [
      "3/3 [==============================] - 8s 3s/step - loss: 0.2748 - accuracy: 0.7630 - val_loss: 0.2866 - val_accuracy: 0.7427\n",
      "Epoch 43/200\n",
      "3/3 [==============================] - ETA: 0s - loss: 0.2746 - accuracy: 0.7630WARNING:tensorflow:Can save best model only with val_acc available, skipping.\n"
     ]
    },
    {
     "name": "stderr",
     "output_type": "stream",
     "text": [
      "WARNING:tensorflow:Can save best model only with val_acc available, skipping.\n"
     ]
    },
    {
     "name": "stdout",
     "output_type": "stream",
     "text": [
      "3/3 [==============================] - 8s 3s/step - loss: 0.2746 - accuracy: 0.7630 - val_loss: 0.2854 - val_accuracy: 0.7427\n",
      "Epoch 44/200\n",
      "3/3 [==============================] - ETA: 0s - loss: 0.2741 - accuracy: 0.7630WARNING:tensorflow:Can save best model only with val_acc available, skipping.\n"
     ]
    },
    {
     "name": "stderr",
     "output_type": "stream",
     "text": [
      "WARNING:tensorflow:Can save best model only with val_acc available, skipping.\n"
     ]
    },
    {
     "name": "stdout",
     "output_type": "stream",
     "text": [
      "3/3 [==============================] - 8s 3s/step - loss: 0.2741 - accuracy: 0.7630 - val_loss: 0.2854 - val_accuracy: 0.7427\n",
      "Epoch 45/200\n",
      "3/3 [==============================] - ETA: 0s - loss: 0.2739 - accuracy: 0.7630WARNING:tensorflow:Can save best model only with val_acc available, skipping.\n"
     ]
    },
    {
     "name": "stderr",
     "output_type": "stream",
     "text": [
      "WARNING:tensorflow:Can save best model only with val_acc available, skipping.\n"
     ]
    },
    {
     "name": "stdout",
     "output_type": "stream",
     "text": [
      "3/3 [==============================] - 9s 3s/step - loss: 0.2739 - accuracy: 0.7630 - val_loss: 0.2856 - val_accuracy: 0.7427\n",
      "Epoch 46/200\n",
      "3/3 [==============================] - ETA: 0s - loss: 0.2738 - accuracy: 0.7630WARNING:tensorflow:Can save best model only with val_acc available, skipping.\n"
     ]
    },
    {
     "name": "stderr",
     "output_type": "stream",
     "text": [
      "WARNING:tensorflow:Can save best model only with val_acc available, skipping.\n"
     ]
    },
    {
     "name": "stdout",
     "output_type": "stream",
     "text": [
      "3/3 [==============================] - 7s 3s/step - loss: 0.2738 - accuracy: 0.7630 - val_loss: 0.2858 - val_accuracy: 0.7427\n",
      "Epoch 47/200\n",
      "3/3 [==============================] - ETA: 0s - loss: 0.2738 - accuracy: 0.7630WARNING:tensorflow:Can save best model only with val_acc available, skipping.\n"
     ]
    },
    {
     "name": "stderr",
     "output_type": "stream",
     "text": [
      "WARNING:tensorflow:Can save best model only with val_acc available, skipping.\n"
     ]
    },
    {
     "name": "stdout",
     "output_type": "stream",
     "text": [
      "3/3 [==============================] - 9s 3s/step - loss: 0.2738 - accuracy: 0.7630 - val_loss: 0.2862 - val_accuracy: 0.7427\n",
      "Epoch 48/200\n",
      "3/3 [==============================] - ETA: 0s - loss: 0.2743 - accuracy: 0.7630WARNING:tensorflow:Can save best model only with val_acc available, skipping.\n"
     ]
    },
    {
     "name": "stderr",
     "output_type": "stream",
     "text": [
      "WARNING:tensorflow:Can save best model only with val_acc available, skipping.\n"
     ]
    },
    {
     "name": "stdout",
     "output_type": "stream",
     "text": [
      "3/3 [==============================] - 7s 3s/step - loss: 0.2743 - accuracy: 0.7630 - val_loss: 0.2865 - val_accuracy: 0.7427\n",
      "Epoch 49/200\n",
      "3/3 [==============================] - ETA: 0s - loss: 0.2739 - accuracy: 0.7630WARNING:tensorflow:Can save best model only with val_acc available, skipping.\n"
     ]
    },
    {
     "name": "stderr",
     "output_type": "stream",
     "text": [
      "WARNING:tensorflow:Can save best model only with val_acc available, skipping.\n"
     ]
    },
    {
     "name": "stdout",
     "output_type": "stream",
     "text": [
      "3/3 [==============================] - 7s 3s/step - loss: 0.2739 - accuracy: 0.7630 - val_loss: 0.2853 - val_accuracy: 0.7427\n",
      "Epoch 50/200\n",
      "3/3 [==============================] - ETA: 0s - loss: 0.2741 - accuracy: 0.7630WARNING:tensorflow:Can save best model only with val_acc available, skipping.\n"
     ]
    },
    {
     "name": "stderr",
     "output_type": "stream",
     "text": [
      "WARNING:tensorflow:Can save best model only with val_acc available, skipping.\n"
     ]
    },
    {
     "name": "stdout",
     "output_type": "stream",
     "text": [
      "3/3 [==============================] - 7s 2s/step - loss: 0.2741 - accuracy: 0.7630 - val_loss: 0.2853 - val_accuracy: 0.7427\n",
      "Epoch 51/200\n",
      "3/3 [==============================] - ETA: 0s - loss: 0.2740 - accuracy: 0.7630WARNING:tensorflow:Can save best model only with val_acc available, skipping.\n"
     ]
    },
    {
     "name": "stderr",
     "output_type": "stream",
     "text": [
      "WARNING:tensorflow:Can save best model only with val_acc available, skipping.\n"
     ]
    },
    {
     "name": "stdout",
     "output_type": "stream",
     "text": [
      "3/3 [==============================] - 8s 3s/step - loss: 0.2740 - accuracy: 0.7630 - val_loss: 0.2858 - val_accuracy: 0.7427\n",
      "Epoch 52/200\n",
      "3/3 [==============================] - ETA: 0s - loss: 0.2738 - accuracy: 0.7630WARNING:tensorflow:Can save best model only with val_acc available, skipping.\n"
     ]
    },
    {
     "name": "stderr",
     "output_type": "stream",
     "text": [
      "WARNING:tensorflow:Can save best model only with val_acc available, skipping.\n"
     ]
    },
    {
     "name": "stdout",
     "output_type": "stream",
     "text": [
      "3/3 [==============================] - 7s 2s/step - loss: 0.2738 - accuracy: 0.7630 - val_loss: 0.2861 - val_accuracy: 0.7427\n",
      "Epoch 53/200\n",
      "3/3 [==============================] - ETA: 0s - loss: 0.2742 - accuracy: 0.7630WARNING:tensorflow:Can save best model only with val_acc available, skipping.\n"
     ]
    },
    {
     "name": "stderr",
     "output_type": "stream",
     "text": [
      "WARNING:tensorflow:Can save best model only with val_acc available, skipping.\n"
     ]
    },
    {
     "name": "stdout",
     "output_type": "stream",
     "text": [
      "3/3 [==============================] - 8s 3s/step - loss: 0.2742 - accuracy: 0.7630 - val_loss: 0.2863 - val_accuracy: 0.7427\n",
      "Epoch 54/200\n",
      "3/3 [==============================] - ETA: 0s - loss: 0.2740 - accuracy: 0.7630WARNING:tensorflow:Can save best model only with val_acc available, skipping.\n"
     ]
    },
    {
     "name": "stderr",
     "output_type": "stream",
     "text": [
      "WARNING:tensorflow:Can save best model only with val_acc available, skipping.\n"
     ]
    },
    {
     "name": "stdout",
     "output_type": "stream",
     "text": [
      "3/3 [==============================] - 7s 3s/step - loss: 0.2740 - accuracy: 0.7630 - val_loss: 0.2854 - val_accuracy: 0.7427\n",
      "Epoch 55/200\n",
      "3/3 [==============================] - ETA: 0s - loss: 0.2740 - accuracy: 0.7630WARNING:tensorflow:Can save best model only with val_acc available, skipping.\n"
     ]
    },
    {
     "name": "stderr",
     "output_type": "stream",
     "text": [
      "WARNING:tensorflow:Can save best model only with val_acc available, skipping.\n"
     ]
    },
    {
     "name": "stdout",
     "output_type": "stream",
     "text": [
      "3/3 [==============================] - 7s 3s/step - loss: 0.2740 - accuracy: 0.7630 - val_loss: 0.2852 - val_accuracy: 0.7427\n",
      "Epoch 56/200\n",
      "3/3 [==============================] - ETA: 0s - loss: 0.2743 - accuracy: 0.7630WARNING:tensorflow:Can save best model only with val_acc available, skipping.\n"
     ]
    },
    {
     "name": "stderr",
     "output_type": "stream",
     "text": [
      "WARNING:tensorflow:Can save best model only with val_acc available, skipping.\n"
     ]
    },
    {
     "name": "stdout",
     "output_type": "stream",
     "text": [
      "3/3 [==============================] - 7s 3s/step - loss: 0.2743 - accuracy: 0.7630 - val_loss: 0.2861 - val_accuracy: 0.7427\n",
      "Epoch 57/200\n",
      "3/3 [==============================] - ETA: 0s - loss: 0.2742 - accuracy: 0.7630WARNING:tensorflow:Can save best model only with val_acc available, skipping.\n"
     ]
    },
    {
     "name": "stderr",
     "output_type": "stream",
     "text": [
      "WARNING:tensorflow:Can save best model only with val_acc available, skipping.\n"
     ]
    },
    {
     "name": "stdout",
     "output_type": "stream",
     "text": [
      "3/3 [==============================] - 7s 3s/step - loss: 0.2742 - accuracy: 0.7630 - val_loss: 0.2858 - val_accuracy: 0.7427\n",
      "Epoch 58/200\n",
      "3/3 [==============================] - ETA: 0s - loss: 0.2743 - accuracy: 0.7630WARNING:tensorflow:Can save best model only with val_acc available, skipping.\n"
     ]
    },
    {
     "name": "stderr",
     "output_type": "stream",
     "text": [
      "WARNING:tensorflow:Can save best model only with val_acc available, skipping.\n"
     ]
    },
    {
     "name": "stdout",
     "output_type": "stream",
     "text": [
      "3/3 [==============================] - 6s 2s/step - loss: 0.2743 - accuracy: 0.7630 - val_loss: 0.2854 - val_accuracy: 0.7427\n",
      "Epoch 59/200\n",
      "3/3 [==============================] - ETA: 0s - loss: 0.2739 - accuracy: 0.7630WARNING:tensorflow:Can save best model only with val_acc available, skipping.\n"
     ]
    },
    {
     "name": "stderr",
     "output_type": "stream",
     "text": [
      "WARNING:tensorflow:Can save best model only with val_acc available, skipping.\n"
     ]
    },
    {
     "name": "stdout",
     "output_type": "stream",
     "text": [
      "3/3 [==============================] - 7s 3s/step - loss: 0.2739 - accuracy: 0.7630 - val_loss: 0.2863 - val_accuracy: 0.7427\n",
      "Epoch 60/200\n",
      "3/3 [==============================] - ETA: 0s - loss: 0.2748 - accuracy: 0.7630WARNING:tensorflow:Can save best model only with val_acc available, skipping.\n"
     ]
    },
    {
     "name": "stderr",
     "output_type": "stream",
     "text": [
      "WARNING:tensorflow:Can save best model only with val_acc available, skipping.\n"
     ]
    },
    {
     "name": "stdout",
     "output_type": "stream",
     "text": [
      "3/3 [==============================] - 7s 2s/step - loss: 0.2748 - accuracy: 0.7630 - val_loss: 0.2865 - val_accuracy: 0.7427\n",
      "Epoch 61/200\n",
      "3/3 [==============================] - ETA: 0s - loss: 0.2739 - accuracy: 0.7630WARNING:tensorflow:Can save best model only with val_acc available, skipping.\n"
     ]
    },
    {
     "name": "stderr",
     "output_type": "stream",
     "text": [
      "WARNING:tensorflow:Can save best model only with val_acc available, skipping.\n"
     ]
    },
    {
     "name": "stdout",
     "output_type": "stream",
     "text": [
      "3/3 [==============================] - 7s 2s/step - loss: 0.2739 - accuracy: 0.7630 - val_loss: 0.2852 - val_accuracy: 0.7427\n",
      "Epoch 62/200\n",
      "3/3 [==============================] - ETA: 0s - loss: 0.2751 - accuracy: 0.7630WARNING:tensorflow:Can save best model only with val_acc available, skipping.\n"
     ]
    },
    {
     "name": "stderr",
     "output_type": "stream",
     "text": [
      "WARNING:tensorflow:Can save best model only with val_acc available, skipping.\n"
     ]
    },
    {
     "name": "stdout",
     "output_type": "stream",
     "text": [
      "3/3 [==============================] - 7s 3s/step - loss: 0.2751 - accuracy: 0.7630 - val_loss: 0.2852 - val_accuracy: 0.7427\n",
      "Epoch 63/200\n",
      "3/3 [==============================] - ETA: 0s - loss: 0.2746 - accuracy: 0.7630WARNING:tensorflow:Can save best model only with val_acc available, skipping.\n"
     ]
    },
    {
     "name": "stderr",
     "output_type": "stream",
     "text": [
      "WARNING:tensorflow:Can save best model only with val_acc available, skipping.\n"
     ]
    },
    {
     "name": "stdout",
     "output_type": "stream",
     "text": [
      "3/3 [==============================] - 7s 2s/step - loss: 0.2746 - accuracy: 0.7630 - val_loss: 0.2861 - val_accuracy: 0.7427\n",
      "Epoch 64/200\n",
      "3/3 [==============================] - ETA: 0s - loss: 0.2754 - accuracy: 0.7630WARNING:tensorflow:Can save best model only with val_acc available, skipping.\n"
     ]
    },
    {
     "name": "stderr",
     "output_type": "stream",
     "text": [
      "WARNING:tensorflow:Can save best model only with val_acc available, skipping.\n"
     ]
    },
    {
     "name": "stdout",
     "output_type": "stream",
     "text": [
      "3/3 [==============================] - 7s 3s/step - loss: 0.2754 - accuracy: 0.7630 - val_loss: 0.2876 - val_accuracy: 0.7427\n",
      "Epoch 65/200\n",
      "3/3 [==============================] - ETA: 0s - loss: 0.2750 - accuracy: 0.7630WARNING:tensorflow:Can save best model only with val_acc available, skipping.\n"
     ]
    },
    {
     "name": "stderr",
     "output_type": "stream",
     "text": [
      "WARNING:tensorflow:Can save best model only with val_acc available, skipping.\n"
     ]
    },
    {
     "name": "stdout",
     "output_type": "stream",
     "text": [
      "3/3 [==============================] - 7s 3s/step - loss: 0.2750 - accuracy: 0.7630 - val_loss: 0.2853 - val_accuracy: 0.7427\n",
      "Epoch 66/200\n",
      "3/3 [==============================] - ETA: 0s - loss: 0.2740 - accuracy: 0.7630WARNING:tensorflow:Can save best model only with val_acc available, skipping.\n"
     ]
    },
    {
     "name": "stderr",
     "output_type": "stream",
     "text": [
      "WARNING:tensorflow:Can save best model only with val_acc available, skipping.\n"
     ]
    },
    {
     "name": "stdout",
     "output_type": "stream",
     "text": [
      "3/3 [==============================] - 7s 3s/step - loss: 0.2740 - accuracy: 0.7630 - val_loss: 0.2854 - val_accuracy: 0.7427\n",
      "Epoch 67/200\n",
      "3/3 [==============================] - ETA: 0s - loss: 0.2740 - accuracy: 0.7630WARNING:tensorflow:Can save best model only with val_acc available, skipping.\n"
     ]
    },
    {
     "name": "stderr",
     "output_type": "stream",
     "text": [
      "WARNING:tensorflow:Can save best model only with val_acc available, skipping.\n"
     ]
    },
    {
     "name": "stdout",
     "output_type": "stream",
     "text": [
      "3/3 [==============================] - 7s 3s/step - loss: 0.2740 - accuracy: 0.7630 - val_loss: 0.2858 - val_accuracy: 0.7427\n",
      "Epoch 68/200\n",
      "3/3 [==============================] - ETA: 0s - loss: 0.2738 - accuracy: 0.7630WARNING:tensorflow:Can save best model only with val_acc available, skipping.\n"
     ]
    },
    {
     "name": "stderr",
     "output_type": "stream",
     "text": [
      "WARNING:tensorflow:Can save best model only with val_acc available, skipping.\n"
     ]
    },
    {
     "name": "stdout",
     "output_type": "stream",
     "text": [
      "3/3 [==============================] - 8s 3s/step - loss: 0.2738 - accuracy: 0.7630 - val_loss: 0.2856 - val_accuracy: 0.7427\n",
      "Epoch 69/200\n",
      "3/3 [==============================] - ETA: 0s - loss: 0.2739 - accuracy: 0.7630WARNING:tensorflow:Can save best model only with val_acc available, skipping.\n"
     ]
    },
    {
     "name": "stderr",
     "output_type": "stream",
     "text": [
      "WARNING:tensorflow:Can save best model only with val_acc available, skipping.\n"
     ]
    },
    {
     "name": "stdout",
     "output_type": "stream",
     "text": [
      "3/3 [==============================] - 7s 2s/step - loss: 0.2739 - accuracy: 0.7630 - val_loss: 0.2857 - val_accuracy: 0.7427\n",
      "Epoch 70/200\n",
      "3/3 [==============================] - ETA: 0s - loss: 0.2740 - accuracy: 0.7630WARNING:tensorflow:Can save best model only with val_acc available, skipping.\n"
     ]
    },
    {
     "name": "stderr",
     "output_type": "stream",
     "text": [
      "WARNING:tensorflow:Can save best model only with val_acc available, skipping.\n"
     ]
    },
    {
     "name": "stdout",
     "output_type": "stream",
     "text": [
      "3/3 [==============================] - 7s 2s/step - loss: 0.2740 - accuracy: 0.7630 - val_loss: 0.2864 - val_accuracy: 0.7427\n",
      "Epoch 71/200\n",
      "3/3 [==============================] - ETA: 0s - loss: 0.2746 - accuracy: 0.7630WARNING:tensorflow:Can save best model only with val_acc available, skipping.\n"
     ]
    },
    {
     "name": "stderr",
     "output_type": "stream",
     "text": [
      "WARNING:tensorflow:Can save best model only with val_acc available, skipping.\n"
     ]
    },
    {
     "name": "stdout",
     "output_type": "stream",
     "text": [
      "3/3 [==============================] - 7s 3s/step - loss: 0.2746 - accuracy: 0.7630 - val_loss: 0.2857 - val_accuracy: 0.7427\n",
      "Epoch 72/200\n",
      "3/3 [==============================] - ETA: 0s - loss: 0.2744 - accuracy: 0.7630WARNING:tensorflow:Can save best model only with val_acc available, skipping.\n"
     ]
    },
    {
     "name": "stderr",
     "output_type": "stream",
     "text": [
      "WARNING:tensorflow:Can save best model only with val_acc available, skipping.\n"
     ]
    },
    {
     "name": "stdout",
     "output_type": "stream",
     "text": [
      "3/3 [==============================] - 7s 2s/step - loss: 0.2744 - accuracy: 0.7630 - val_loss: 0.2867 - val_accuracy: 0.7427\n",
      "Epoch 73/200\n",
      "3/3 [==============================] - ETA: 0s - loss: 0.2740 - accuracy: 0.7630WARNING:tensorflow:Can save best model only with val_acc available, skipping.\n"
     ]
    },
    {
     "name": "stderr",
     "output_type": "stream",
     "text": [
      "WARNING:tensorflow:Can save best model only with val_acc available, skipping.\n"
     ]
    },
    {
     "name": "stdout",
     "output_type": "stream",
     "text": [
      "3/3 [==============================] - 7s 3s/step - loss: 0.2740 - accuracy: 0.7630 - val_loss: 0.2856 - val_accuracy: 0.7427\n",
      "Epoch 74/200\n",
      "3/3 [==============================] - ETA: 0s - loss: 0.2741 - accuracy: 0.7630WARNING:tensorflow:Can save best model only with val_acc available, skipping.\n"
     ]
    },
    {
     "name": "stderr",
     "output_type": "stream",
     "text": [
      "WARNING:tensorflow:Can save best model only with val_acc available, skipping.\n"
     ]
    },
    {
     "name": "stdout",
     "output_type": "stream",
     "text": [
      "3/3 [==============================] - 7s 2s/step - loss: 0.2741 - accuracy: 0.7630 - val_loss: 0.2852 - val_accuracy: 0.7427\n",
      "Epoch 75/200\n",
      "3/3 [==============================] - ETA: 0s - loss: 0.2745 - accuracy: 0.7630WARNING:tensorflow:Can save best model only with val_acc available, skipping.\n"
     ]
    },
    {
     "name": "stderr",
     "output_type": "stream",
     "text": [
      "WARNING:tensorflow:Can save best model only with val_acc available, skipping.\n"
     ]
    },
    {
     "name": "stdout",
     "output_type": "stream",
     "text": [
      "3/3 [==============================] - 7s 3s/step - loss: 0.2745 - accuracy: 0.7630 - val_loss: 0.2857 - val_accuracy: 0.7427\n",
      "Epoch 76/200\n",
      "3/3 [==============================] - ETA: 0s - loss: 0.2739 - accuracy: 0.7630WARNING:tensorflow:Can save best model only with val_acc available, skipping.\n"
     ]
    },
    {
     "name": "stderr",
     "output_type": "stream",
     "text": [
      "WARNING:tensorflow:Can save best model only with val_acc available, skipping.\n"
     ]
    },
    {
     "name": "stdout",
     "output_type": "stream",
     "text": [
      "3/3 [==============================] - 7s 3s/step - loss: 0.2739 - accuracy: 0.7630 - val_loss: 0.2860 - val_accuracy: 0.7427\n",
      "Epoch 77/200\n",
      "3/3 [==============================] - ETA: 0s - loss: 0.2742 - accuracy: 0.7630WARNING:tensorflow:Can save best model only with val_acc available, skipping.\n"
     ]
    },
    {
     "name": "stderr",
     "output_type": "stream",
     "text": [
      "WARNING:tensorflow:Can save best model only with val_acc available, skipping.\n"
     ]
    },
    {
     "name": "stdout",
     "output_type": "stream",
     "text": [
      "3/3 [==============================] - 6s 2s/step - loss: 0.2742 - accuracy: 0.7630 - val_loss: 0.2854 - val_accuracy: 0.7427\n",
      "Epoch 78/200\n",
      "3/3 [==============================] - ETA: 0s - loss: 0.2741 - accuracy: 0.7630WARNING:tensorflow:Can save best model only with val_acc available, skipping.\n"
     ]
    },
    {
     "name": "stderr",
     "output_type": "stream",
     "text": [
      "WARNING:tensorflow:Can save best model only with val_acc available, skipping.\n"
     ]
    },
    {
     "name": "stdout",
     "output_type": "stream",
     "text": [
      "3/3 [==============================] - 7s 2s/step - loss: 0.2741 - accuracy: 0.7630 - val_loss: 0.2858 - val_accuracy: 0.7427\n",
      "Epoch 79/200\n",
      "3/3 [==============================] - ETA: 0s - loss: 0.2739 - accuracy: 0.7630WARNING:tensorflow:Can save best model only with val_acc available, skipping.\n"
     ]
    },
    {
     "name": "stderr",
     "output_type": "stream",
     "text": [
      "WARNING:tensorflow:Can save best model only with val_acc available, skipping.\n"
     ]
    },
    {
     "name": "stdout",
     "output_type": "stream",
     "text": [
      "3/3 [==============================] - 7s 2s/step - loss: 0.2739 - accuracy: 0.7630 - val_loss: 0.2856 - val_accuracy: 0.7427\n",
      "Epoch 80/200\n",
      "3/3 [==============================] - ETA: 0s - loss: 0.2740 - accuracy: 0.7630WARNING:tensorflow:Can save best model only with val_acc available, skipping.\n"
     ]
    },
    {
     "name": "stderr",
     "output_type": "stream",
     "text": [
      "WARNING:tensorflow:Can save best model only with val_acc available, skipping.\n"
     ]
    },
    {
     "name": "stdout",
     "output_type": "stream",
     "text": [
      "3/3 [==============================] - 6s 2s/step - loss: 0.2740 - accuracy: 0.7630 - val_loss: 0.2853 - val_accuracy: 0.7427\n",
      "Epoch 81/200\n",
      "3/3 [==============================] - ETA: 0s - loss: 0.2738 - accuracy: 0.7630WARNING:tensorflow:Can save best model only with val_acc available, skipping.\n"
     ]
    },
    {
     "name": "stderr",
     "output_type": "stream",
     "text": [
      "WARNING:tensorflow:Can save best model only with val_acc available, skipping.\n"
     ]
    },
    {
     "name": "stdout",
     "output_type": "stream",
     "text": [
      "3/3 [==============================] - 6s 2s/step - loss: 0.2738 - accuracy: 0.7630 - val_loss: 0.2859 - val_accuracy: 0.7427\n",
      "Epoch 82/200\n",
      "3/3 [==============================] - ETA: 0s - loss: 0.2738 - accuracy: 0.7630WARNING:tensorflow:Can save best model only with val_acc available, skipping.\n"
     ]
    },
    {
     "name": "stderr",
     "output_type": "stream",
     "text": [
      "WARNING:tensorflow:Can save best model only with val_acc available, skipping.\n"
     ]
    },
    {
     "name": "stdout",
     "output_type": "stream",
     "text": [
      "3/3 [==============================] - 6s 2s/step - loss: 0.2738 - accuracy: 0.7630 - val_loss: 0.2867 - val_accuracy: 0.7427\n",
      "Epoch 83/200\n",
      "3/3 [==============================] - ETA: 0s - loss: 0.2751 - accuracy: 0.7630WARNING:tensorflow:Can save best model only with val_acc available, skipping.\n"
     ]
    },
    {
     "name": "stderr",
     "output_type": "stream",
     "text": [
      "WARNING:tensorflow:Can save best model only with val_acc available, skipping.\n"
     ]
    },
    {
     "name": "stdout",
     "output_type": "stream",
     "text": [
      "3/3 [==============================] - 7s 2s/step - loss: 0.2751 - accuracy: 0.7630 - val_loss: 0.2872 - val_accuracy: 0.7427\n",
      "Epoch 84/200\n",
      "3/3 [==============================] - ETA: 0s - loss: 0.2738 - accuracy: 0.7630WARNING:tensorflow:Can save best model only with val_acc available, skipping.\n"
     ]
    },
    {
     "name": "stderr",
     "output_type": "stream",
     "text": [
      "WARNING:tensorflow:Can save best model only with val_acc available, skipping.\n"
     ]
    },
    {
     "name": "stdout",
     "output_type": "stream",
     "text": [
      "3/3 [==============================] - 7s 2s/step - loss: 0.2738 - accuracy: 0.7630 - val_loss: 0.2852 - val_accuracy: 0.7427\n",
      "Epoch 85/200\n",
      "3/3 [==============================] - ETA: 0s - loss: 0.2741 - accuracy: 0.7630WARNING:tensorflow:Can save best model only with val_acc available, skipping.\n"
     ]
    },
    {
     "name": "stderr",
     "output_type": "stream",
     "text": [
      "WARNING:tensorflow:Can save best model only with val_acc available, skipping.\n"
     ]
    },
    {
     "name": "stdout",
     "output_type": "stream",
     "text": [
      "3/3 [==============================] - 7s 2s/step - loss: 0.2741 - accuracy: 0.7630 - val_loss: 0.2852 - val_accuracy: 0.7427\n",
      "Epoch 86/200\n",
      "3/3 [==============================] - ETA: 0s - loss: 0.2743 - accuracy: 0.7630WARNING:tensorflow:Can save best model only with val_acc available, skipping.\n"
     ]
    },
    {
     "name": "stderr",
     "output_type": "stream",
     "text": [
      "WARNING:tensorflow:Can save best model only with val_acc available, skipping.\n"
     ]
    },
    {
     "name": "stdout",
     "output_type": "stream",
     "text": [
      "3/3 [==============================] - 7s 2s/step - loss: 0.2743 - accuracy: 0.7630 - val_loss: 0.2858 - val_accuracy: 0.7427\n",
      "Epoch 87/200\n",
      "3/3 [==============================] - ETA: 0s - loss: 0.2739 - accuracy: 0.7630WARNING:tensorflow:Can save best model only with val_acc available, skipping.\n"
     ]
    },
    {
     "name": "stderr",
     "output_type": "stream",
     "text": [
      "WARNING:tensorflow:Can save best model only with val_acc available, skipping.\n"
     ]
    },
    {
     "name": "stdout",
     "output_type": "stream",
     "text": [
      "3/3 [==============================] - 7s 2s/step - loss: 0.2739 - accuracy: 0.7630 - val_loss: 0.2866 - val_accuracy: 0.7427\n",
      "Epoch 88/200\n",
      "3/3 [==============================] - ETA: 0s - loss: 0.2740 - accuracy: 0.7630WARNING:tensorflow:Can save best model only with val_acc available, skipping.\n"
     ]
    },
    {
     "name": "stderr",
     "output_type": "stream",
     "text": [
      "WARNING:tensorflow:Can save best model only with val_acc available, skipping.\n"
     ]
    },
    {
     "name": "stdout",
     "output_type": "stream",
     "text": [
      "3/3 [==============================] - 7s 3s/step - loss: 0.2740 - accuracy: 0.7630 - val_loss: 0.2860 - val_accuracy: 0.7427\n",
      "Epoch 89/200\n",
      "3/3 [==============================] - ETA: 0s - loss: 0.2735 - accuracy: 0.7630WARNING:tensorflow:Can save best model only with val_acc available, skipping.\n"
     ]
    },
    {
     "name": "stderr",
     "output_type": "stream",
     "text": [
      "WARNING:tensorflow:Can save best model only with val_acc available, skipping.\n"
     ]
    },
    {
     "name": "stdout",
     "output_type": "stream",
     "text": [
      "3/3 [==============================] - 8s 3s/step - loss: 0.2735 - accuracy: 0.7630 - val_loss: 0.2852 - val_accuracy: 0.7427\n",
      "Epoch 90/200\n",
      "3/3 [==============================] - ETA: 0s - loss: 0.2745 - accuracy: 0.7630WARNING:tensorflow:Can save best model only with val_acc available, skipping.\n"
     ]
    },
    {
     "name": "stderr",
     "output_type": "stream",
     "text": [
      "WARNING:tensorflow:Can save best model only with val_acc available, skipping.\n"
     ]
    },
    {
     "name": "stdout",
     "output_type": "stream",
     "text": [
      "3/3 [==============================] - 7s 3s/step - loss: 0.2745 - accuracy: 0.7630 - val_loss: 0.2852 - val_accuracy: 0.7427\n",
      "Epoch 91/200\n",
      "3/3 [==============================] - ETA: 0s - loss: 0.2738 - accuracy: 0.7630WARNING:tensorflow:Can save best model only with val_acc available, skipping.\n"
     ]
    },
    {
     "name": "stderr",
     "output_type": "stream",
     "text": [
      "WARNING:tensorflow:Can save best model only with val_acc available, skipping.\n"
     ]
    },
    {
     "name": "stdout",
     "output_type": "stream",
     "text": [
      "3/3 [==============================] - 7s 3s/step - loss: 0.2738 - accuracy: 0.7630 - val_loss: 0.2863 - val_accuracy: 0.7427\n",
      "Epoch 92/200\n",
      "3/3 [==============================] - ETA: 0s - loss: 0.2747 - accuracy: 0.7630WARNING:tensorflow:Can save best model only with val_acc available, skipping.\n"
     ]
    },
    {
     "name": "stderr",
     "output_type": "stream",
     "text": [
      "WARNING:tensorflow:Can save best model only with val_acc available, skipping.\n"
     ]
    },
    {
     "name": "stdout",
     "output_type": "stream",
     "text": [
      "3/3 [==============================] - 7s 3s/step - loss: 0.2747 - accuracy: 0.7630 - val_loss: 0.2880 - val_accuracy: 0.7427\n",
      "Epoch 93/200\n",
      "3/3 [==============================] - ETA: 0s - loss: 0.2738 - accuracy: 0.7630WARNING:tensorflow:Can save best model only with val_acc available, skipping.\n"
     ]
    },
    {
     "name": "stderr",
     "output_type": "stream",
     "text": [
      "WARNING:tensorflow:Can save best model only with val_acc available, skipping.\n"
     ]
    },
    {
     "name": "stdout",
     "output_type": "stream",
     "text": [
      "3/3 [==============================] - 7s 2s/step - loss: 0.2738 - accuracy: 0.7630 - val_loss: 0.2857 - val_accuracy: 0.7427\n",
      "Epoch 94/200\n",
      "3/3 [==============================] - ETA: 0s - loss: 0.2745 - accuracy: 0.7630WARNING:tensorflow:Can save best model only with val_acc available, skipping.\n"
     ]
    },
    {
     "name": "stderr",
     "output_type": "stream",
     "text": [
      "WARNING:tensorflow:Can save best model only with val_acc available, skipping.\n"
     ]
    },
    {
     "name": "stdout",
     "output_type": "stream",
     "text": [
      "3/3 [==============================] - 7s 2s/step - loss: 0.2745 - accuracy: 0.7630 - val_loss: 0.2852 - val_accuracy: 0.7427\n",
      "Epoch 95/200\n",
      "3/3 [==============================] - ETA: 0s - loss: 0.2744 - accuracy: 0.7630WARNING:tensorflow:Can save best model only with val_acc available, skipping.\n"
     ]
    },
    {
     "name": "stderr",
     "output_type": "stream",
     "text": [
      "WARNING:tensorflow:Can save best model only with val_acc available, skipping.\n"
     ]
    },
    {
     "name": "stdout",
     "output_type": "stream",
     "text": [
      "3/3 [==============================] - 7s 2s/step - loss: 0.2744 - accuracy: 0.7630 - val_loss: 0.2857 - val_accuracy: 0.7427\n",
      "Epoch 96/200\n",
      "3/3 [==============================] - ETA: 0s - loss: 0.2743 - accuracy: 0.7630WARNING:tensorflow:Can save best model only with val_acc available, skipping.\n"
     ]
    },
    {
     "name": "stderr",
     "output_type": "stream",
     "text": [
      "WARNING:tensorflow:Can save best model only with val_acc available, skipping.\n"
     ]
    },
    {
     "name": "stdout",
     "output_type": "stream",
     "text": [
      "3/3 [==============================] - 7s 3s/step - loss: 0.2743 - accuracy: 0.7630 - val_loss: 0.2864 - val_accuracy: 0.7427\n",
      "Epoch 97/200\n",
      "3/3 [==============================] - ETA: 0s - loss: 0.2738 - accuracy: 0.7630WARNING:tensorflow:Can save best model only with val_acc available, skipping.\n"
     ]
    },
    {
     "name": "stderr",
     "output_type": "stream",
     "text": [
      "WARNING:tensorflow:Can save best model only with val_acc available, skipping.\n"
     ]
    },
    {
     "name": "stdout",
     "output_type": "stream",
     "text": [
      "3/3 [==============================] - 6s 2s/step - loss: 0.2738 - accuracy: 0.7630 - val_loss: 0.2873 - val_accuracy: 0.7427\n",
      "Epoch 98/200\n",
      "3/3 [==============================] - ETA: 0s - loss: 0.2742 - accuracy: 0.7630WARNING:tensorflow:Can save best model only with val_acc available, skipping.\n"
     ]
    },
    {
     "name": "stderr",
     "output_type": "stream",
     "text": [
      "WARNING:tensorflow:Can save best model only with val_acc available, skipping.\n"
     ]
    },
    {
     "name": "stdout",
     "output_type": "stream",
     "text": [
      "3/3 [==============================] - 7s 2s/step - loss: 0.2742 - accuracy: 0.7630 - val_loss: 0.2861 - val_accuracy: 0.7427\n",
      "Epoch 99/200\n",
      "3/3 [==============================] - ETA: 0s - loss: 0.2737 - accuracy: 0.7630WARNING:tensorflow:Can save best model only with val_acc available, skipping.\n"
     ]
    },
    {
     "name": "stderr",
     "output_type": "stream",
     "text": [
      "WARNING:tensorflow:Can save best model only with val_acc available, skipping.\n"
     ]
    },
    {
     "name": "stdout",
     "output_type": "stream",
     "text": [
      "3/3 [==============================] - 7s 3s/step - loss: 0.2737 - accuracy: 0.7630 - val_loss: 0.2855 - val_accuracy: 0.7427\n",
      "Epoch 100/200\n",
      "3/3 [==============================] - ETA: 0s - loss: 0.2736 - accuracy: 0.7630WARNING:tensorflow:Can save best model only with val_acc available, skipping.\n"
     ]
    },
    {
     "name": "stderr",
     "output_type": "stream",
     "text": [
      "WARNING:tensorflow:Can save best model only with val_acc available, skipping.\n"
     ]
    },
    {
     "name": "stdout",
     "output_type": "stream",
     "text": [
      "3/3 [==============================] - 7s 3s/step - loss: 0.2736 - accuracy: 0.7630 - val_loss: 0.2856 - val_accuracy: 0.7427\n",
      "Epoch 101/200\n",
      "3/3 [==============================] - ETA: 0s - loss: 0.2737 - accuracy: 0.7630WARNING:tensorflow:Can save best model only with val_acc available, skipping.\n"
     ]
    },
    {
     "name": "stderr",
     "output_type": "stream",
     "text": [
      "WARNING:tensorflow:Can save best model only with val_acc available, skipping.\n"
     ]
    },
    {
     "name": "stdout",
     "output_type": "stream",
     "text": [
      "3/3 [==============================] - 7s 3s/step - loss: 0.2737 - accuracy: 0.7630 - val_loss: 0.2855 - val_accuracy: 0.7427\n",
      "Epoch 102/200\n",
      "3/3 [==============================] - ETA: 0s - loss: 0.2743 - accuracy: 0.7630WARNING:tensorflow:Can save best model only with val_acc available, skipping.\n"
     ]
    },
    {
     "name": "stderr",
     "output_type": "stream",
     "text": [
      "WARNING:tensorflow:Can save best model only with val_acc available, skipping.\n"
     ]
    },
    {
     "name": "stdout",
     "output_type": "stream",
     "text": [
      "3/3 [==============================] - 7s 3s/step - loss: 0.2743 - accuracy: 0.7630 - val_loss: 0.2862 - val_accuracy: 0.7427\n",
      "Epoch 103/200\n",
      "3/3 [==============================] - ETA: 0s - loss: 0.2735 - accuracy: 0.7630WARNING:tensorflow:Can save best model only with val_acc available, skipping.\n"
     ]
    },
    {
     "name": "stderr",
     "output_type": "stream",
     "text": [
      "WARNING:tensorflow:Can save best model only with val_acc available, skipping.\n"
     ]
    },
    {
     "name": "stdout",
     "output_type": "stream",
     "text": [
      "3/3 [==============================] - 7s 3s/step - loss: 0.2735 - accuracy: 0.7630 - val_loss: 0.2855 - val_accuracy: 0.7427\n",
      "Epoch 104/200\n",
      "3/3 [==============================] - ETA: 0s - loss: 0.2738 - accuracy: 0.7630WARNING:tensorflow:Can save best model only with val_acc available, skipping.\n"
     ]
    },
    {
     "name": "stderr",
     "output_type": "stream",
     "text": [
      "WARNING:tensorflow:Can save best model only with val_acc available, skipping.\n"
     ]
    },
    {
     "name": "stdout",
     "output_type": "stream",
     "text": [
      "3/3 [==============================] - 7s 3s/step - loss: 0.2738 - accuracy: 0.7630 - val_loss: 0.2853 - val_accuracy: 0.7427\n",
      "Epoch 105/200\n",
      "3/3 [==============================] - ETA: 0s - loss: 0.2739 - accuracy: 0.7630WARNING:tensorflow:Can save best model only with val_acc available, skipping.\n"
     ]
    },
    {
     "name": "stderr",
     "output_type": "stream",
     "text": [
      "WARNING:tensorflow:Can save best model only with val_acc available, skipping.\n"
     ]
    },
    {
     "name": "stdout",
     "output_type": "stream",
     "text": [
      "3/3 [==============================] - 7s 3s/step - loss: 0.2739 - accuracy: 0.7630 - val_loss: 0.2856 - val_accuracy: 0.7427\n",
      "Epoch 106/200\n",
      "3/3 [==============================] - ETA: 0s - loss: 0.2746 - accuracy: 0.7630WARNING:tensorflow:Can save best model only with val_acc available, skipping.\n"
     ]
    },
    {
     "name": "stderr",
     "output_type": "stream",
     "text": [
      "WARNING:tensorflow:Can save best model only with val_acc available, skipping.\n"
     ]
    },
    {
     "name": "stdout",
     "output_type": "stream",
     "text": [
      "3/3 [==============================] - 7s 3s/step - loss: 0.2746 - accuracy: 0.7630 - val_loss: 0.2879 - val_accuracy: 0.7427\n",
      "Epoch 107/200\n",
      "3/3 [==============================] - ETA: 0s - loss: 0.2755 - accuracy: 0.7630WARNING:tensorflow:Can save best model only with val_acc available, skipping.\n"
     ]
    },
    {
     "name": "stderr",
     "output_type": "stream",
     "text": [
      "WARNING:tensorflow:Can save best model only with val_acc available, skipping.\n"
     ]
    },
    {
     "name": "stdout",
     "output_type": "stream",
     "text": [
      "3/3 [==============================] - 7s 3s/step - loss: 0.2755 - accuracy: 0.7630 - val_loss: 0.2856 - val_accuracy: 0.7427\n",
      "Epoch 108/200\n",
      "3/3 [==============================] - ETA: 0s - loss: 0.2733 - accuracy: 0.7630WARNING:tensorflow:Can save best model only with val_acc available, skipping.\n"
     ]
    },
    {
     "name": "stderr",
     "output_type": "stream",
     "text": [
      "WARNING:tensorflow:Can save best model only with val_acc available, skipping.\n"
     ]
    },
    {
     "name": "stdout",
     "output_type": "stream",
     "text": [
      "3/3 [==============================] - 7s 3s/step - loss: 0.2733 - accuracy: 0.7630 - val_loss: 0.2857 - val_accuracy: 0.7427\n",
      "Epoch 109/200\n",
      "3/3 [==============================] - ETA: 0s - loss: 0.2735 - accuracy: 0.7630WARNING:tensorflow:Can save best model only with val_acc available, skipping.\n"
     ]
    },
    {
     "name": "stderr",
     "output_type": "stream",
     "text": [
      "WARNING:tensorflow:Can save best model only with val_acc available, skipping.\n"
     ]
    },
    {
     "name": "stdout",
     "output_type": "stream",
     "text": [
      "3/3 [==============================] - 7s 2s/step - loss: 0.2735 - accuracy: 0.7630 - val_loss: 0.2856 - val_accuracy: 0.7427\n",
      "Epoch 110/200\n",
      "3/3 [==============================] - ETA: 0s - loss: 0.2732 - accuracy: 0.7630WARNING:tensorflow:Can save best model only with val_acc available, skipping.\n"
     ]
    },
    {
     "name": "stderr",
     "output_type": "stream",
     "text": [
      "WARNING:tensorflow:Can save best model only with val_acc available, skipping.\n"
     ]
    },
    {
     "name": "stdout",
     "output_type": "stream",
     "text": [
      "3/3 [==============================] - 7s 3s/step - loss: 0.2732 - accuracy: 0.7630 - val_loss: 0.2862 - val_accuracy: 0.7427\n",
      "Epoch 111/200\n",
      "3/3 [==============================] - ETA: 0s - loss: 0.2739 - accuracy: 0.7630WARNING:tensorflow:Can save best model only with val_acc available, skipping.\n"
     ]
    },
    {
     "name": "stderr",
     "output_type": "stream",
     "text": [
      "WARNING:tensorflow:Can save best model only with val_acc available, skipping.\n"
     ]
    },
    {
     "name": "stdout",
     "output_type": "stream",
     "text": [
      "3/3 [==============================] - 7s 2s/step - loss: 0.2739 - accuracy: 0.7630 - val_loss: 0.2863 - val_accuracy: 0.7427\n",
      "Epoch 112/200\n",
      "3/3 [==============================] - ETA: 0s - loss: 0.2739 - accuracy: 0.7630WARNING:tensorflow:Can save best model only with val_acc available, skipping.\n"
     ]
    },
    {
     "name": "stderr",
     "output_type": "stream",
     "text": [
      "WARNING:tensorflow:Can save best model only with val_acc available, skipping.\n"
     ]
    },
    {
     "name": "stdout",
     "output_type": "stream",
     "text": [
      "3/3 [==============================] - 7s 3s/step - loss: 0.2739 - accuracy: 0.7630 - val_loss: 0.2865 - val_accuracy: 0.7427\n",
      "Epoch 113/200\n",
      "3/3 [==============================] - ETA: 0s - loss: 0.2770 - accuracy: 0.7630WARNING:tensorflow:Can save best model only with val_acc available, skipping.\n"
     ]
    },
    {
     "name": "stderr",
     "output_type": "stream",
     "text": [
      "WARNING:tensorflow:Can save best model only with val_acc available, skipping.\n"
     ]
    },
    {
     "name": "stdout",
     "output_type": "stream",
     "text": [
      "3/3 [==============================] - 7s 2s/step - loss: 0.2770 - accuracy: 0.7630 - val_loss: 0.2856 - val_accuracy: 0.7427\n",
      "Epoch 114/200\n",
      "3/3 [==============================] - ETA: 0s - loss: 0.2775 - accuracy: 0.7630WARNING:tensorflow:Can save best model only with val_acc available, skipping.\n"
     ]
    },
    {
     "name": "stderr",
     "output_type": "stream",
     "text": [
      "WARNING:tensorflow:Can save best model only with val_acc available, skipping.\n"
     ]
    },
    {
     "name": "stdout",
     "output_type": "stream",
     "text": [
      "3/3 [==============================] - 7s 3s/step - loss: 0.2775 - accuracy: 0.7630 - val_loss: 0.2877 - val_accuracy: 0.7427\n",
      "Epoch 115/200\n",
      "3/3 [==============================] - ETA: 0s - loss: 0.2747 - accuracy: 0.7630WARNING:tensorflow:Can save best model only with val_acc available, skipping.\n"
     ]
    },
    {
     "name": "stderr",
     "output_type": "stream",
     "text": [
      "WARNING:tensorflow:Can save best model only with val_acc available, skipping.\n"
     ]
    },
    {
     "name": "stdout",
     "output_type": "stream",
     "text": [
      "3/3 [==============================] - 7s 3s/step - loss: 0.2747 - accuracy: 0.7630 - val_loss: 0.2866 - val_accuracy: 0.7427\n",
      "Epoch 116/200\n",
      "3/3 [==============================] - ETA: 0s - loss: 0.2747 - accuracy: 0.7630WARNING:tensorflow:Can save best model only with val_acc available, skipping.\n"
     ]
    },
    {
     "name": "stderr",
     "output_type": "stream",
     "text": [
      "WARNING:tensorflow:Can save best model only with val_acc available, skipping.\n"
     ]
    },
    {
     "name": "stdout",
     "output_type": "stream",
     "text": [
      "3/3 [==============================] - 8s 3s/step - loss: 0.2747 - accuracy: 0.7630 - val_loss: 0.2852 - val_accuracy: 0.7427\n",
      "Epoch 117/200\n",
      "3/3 [==============================] - ETA: 0s - loss: 0.2749 - accuracy: 0.7630WARNING:tensorflow:Can save best model only with val_acc available, skipping.\n"
     ]
    },
    {
     "name": "stderr",
     "output_type": "stream",
     "text": [
      "WARNING:tensorflow:Can save best model only with val_acc available, skipping.\n"
     ]
    },
    {
     "name": "stdout",
     "output_type": "stream",
     "text": [
      "3/3 [==============================] - 7s 3s/step - loss: 0.2749 - accuracy: 0.7630 - val_loss: 0.2853 - val_accuracy: 0.7427\n",
      "Epoch 118/200\n",
      "3/3 [==============================] - ETA: 0s - loss: 0.2740 - accuracy: 0.7630WARNING:tensorflow:Can save best model only with val_acc available, skipping.\n"
     ]
    },
    {
     "name": "stderr",
     "output_type": "stream",
     "text": [
      "WARNING:tensorflow:Can save best model only with val_acc available, skipping.\n"
     ]
    },
    {
     "name": "stdout",
     "output_type": "stream",
     "text": [
      "3/3 [==============================] - 8s 3s/step - loss: 0.2740 - accuracy: 0.7630 - val_loss: 0.2855 - val_accuracy: 0.7427\n",
      "Epoch 119/200\n",
      "3/3 [==============================] - ETA: 0s - loss: 0.2737 - accuracy: 0.7630WARNING:tensorflow:Can save best model only with val_acc available, skipping.\n"
     ]
    },
    {
     "name": "stderr",
     "output_type": "stream",
     "text": [
      "WARNING:tensorflow:Can save best model only with val_acc available, skipping.\n"
     ]
    },
    {
     "name": "stdout",
     "output_type": "stream",
     "text": [
      "3/3 [==============================] - 7s 3s/step - loss: 0.2737 - accuracy: 0.7630 - val_loss: 0.2860 - val_accuracy: 0.7427\n",
      "Epoch 120/200\n",
      "3/3 [==============================] - ETA: 0s - loss: 0.2740 - accuracy: 0.7630WARNING:tensorflow:Can save best model only with val_acc available, skipping.\n"
     ]
    },
    {
     "name": "stderr",
     "output_type": "stream",
     "text": [
      "WARNING:tensorflow:Can save best model only with val_acc available, skipping.\n"
     ]
    },
    {
     "name": "stdout",
     "output_type": "stream",
     "text": [
      "3/3 [==============================] - 8s 3s/step - loss: 0.2740 - accuracy: 0.7630 - val_loss: 0.2869 - val_accuracy: 0.7427\n",
      "Epoch 121/200\n",
      "3/3 [==============================] - ETA: 0s - loss: 0.2740 - accuracy: 0.7630WARNING:tensorflow:Can save best model only with val_acc available, skipping.\n"
     ]
    },
    {
     "name": "stderr",
     "output_type": "stream",
     "text": [
      "WARNING:tensorflow:Can save best model only with val_acc available, skipping.\n"
     ]
    },
    {
     "name": "stdout",
     "output_type": "stream",
     "text": [
      "3/3 [==============================] - 7s 3s/step - loss: 0.2740 - accuracy: 0.7630 - val_loss: 0.2862 - val_accuracy: 0.7427\n",
      "Epoch 122/200\n",
      "3/3 [==============================] - ETA: 0s - loss: 0.2738 - accuracy: 0.7630WARNING:tensorflow:Can save best model only with val_acc available, skipping.\n"
     ]
    },
    {
     "name": "stderr",
     "output_type": "stream",
     "text": [
      "WARNING:tensorflow:Can save best model only with val_acc available, skipping.\n"
     ]
    },
    {
     "name": "stdout",
     "output_type": "stream",
     "text": [
      "3/3 [==============================] - 7s 3s/step - loss: 0.2738 - accuracy: 0.7630 - val_loss: 0.2854 - val_accuracy: 0.7427\n",
      "Epoch 123/200\n",
      "3/3 [==============================] - ETA: 0s - loss: 0.2740 - accuracy: 0.7630WARNING:tensorflow:Can save best model only with val_acc available, skipping.\n"
     ]
    },
    {
     "name": "stderr",
     "output_type": "stream",
     "text": [
      "WARNING:tensorflow:Can save best model only with val_acc available, skipping.\n"
     ]
    },
    {
     "name": "stdout",
     "output_type": "stream",
     "text": [
      "3/3 [==============================] - 6s 2s/step - loss: 0.2740 - accuracy: 0.7630 - val_loss: 0.2852 - val_accuracy: 0.7427\n",
      "Epoch 124/200\n",
      "3/3 [==============================] - ETA: 0s - loss: 0.2739 - accuracy: 0.7630WARNING:tensorflow:Can save best model only with val_acc available, skipping.\n"
     ]
    },
    {
     "name": "stderr",
     "output_type": "stream",
     "text": [
      "WARNING:tensorflow:Can save best model only with val_acc available, skipping.\n"
     ]
    },
    {
     "name": "stdout",
     "output_type": "stream",
     "text": [
      "3/3 [==============================] - 7s 3s/step - loss: 0.2739 - accuracy: 0.7630 - val_loss: 0.2854 - val_accuracy: 0.7427\n",
      "Epoch 125/200\n",
      "3/3 [==============================] - ETA: 0s - loss: 0.2738 - accuracy: 0.7630WARNING:tensorflow:Can save best model only with val_acc available, skipping.\n"
     ]
    },
    {
     "name": "stderr",
     "output_type": "stream",
     "text": [
      "WARNING:tensorflow:Can save best model only with val_acc available, skipping.\n"
     ]
    },
    {
     "name": "stdout",
     "output_type": "stream",
     "text": [
      "3/3 [==============================] - 7s 3s/step - loss: 0.2738 - accuracy: 0.7630 - val_loss: 0.2862 - val_accuracy: 0.7427\n",
      "Epoch 126/200\n",
      "3/3 [==============================] - ETA: 0s - loss: 0.2738 - accuracy: 0.7630WARNING:tensorflow:Can save best model only with val_acc available, skipping.\n"
     ]
    },
    {
     "name": "stderr",
     "output_type": "stream",
     "text": [
      "WARNING:tensorflow:Can save best model only with val_acc available, skipping.\n"
     ]
    },
    {
     "name": "stdout",
     "output_type": "stream",
     "text": [
      "3/3 [==============================] - 7s 3s/step - loss: 0.2738 - accuracy: 0.7630 - val_loss: 0.2860 - val_accuracy: 0.7427\n",
      "Epoch 127/200\n",
      "3/3 [==============================] - ETA: 0s - loss: 0.2738 - accuracy: 0.7630WARNING:tensorflow:Can save best model only with val_acc available, skipping.\n"
     ]
    },
    {
     "name": "stderr",
     "output_type": "stream",
     "text": [
      "WARNING:tensorflow:Can save best model only with val_acc available, skipping.\n"
     ]
    },
    {
     "name": "stdout",
     "output_type": "stream",
     "text": [
      "3/3 [==============================] - 7s 3s/step - loss: 0.2738 - accuracy: 0.7630 - val_loss: 0.2856 - val_accuracy: 0.7427\n",
      "Epoch 128/200\n",
      "3/3 [==============================] - ETA: 0s - loss: 0.2748 - accuracy: 0.7630WARNING:tensorflow:Can save best model only with val_acc available, skipping.\n"
     ]
    },
    {
     "name": "stderr",
     "output_type": "stream",
     "text": [
      "WARNING:tensorflow:Can save best model only with val_acc available, skipping.\n"
     ]
    },
    {
     "name": "stdout",
     "output_type": "stream",
     "text": [
      "3/3 [==============================] - 7s 3s/step - loss: 0.2748 - accuracy: 0.7630 - val_loss: 0.2861 - val_accuracy: 0.7427\n",
      "Epoch 129/200\n",
      "3/3 [==============================] - ETA: 0s - loss: 0.2741 - accuracy: 0.7630WARNING:tensorflow:Can save best model only with val_acc available, skipping.\n"
     ]
    },
    {
     "name": "stderr",
     "output_type": "stream",
     "text": [
      "WARNING:tensorflow:Can save best model only with val_acc available, skipping.\n"
     ]
    },
    {
     "name": "stdout",
     "output_type": "stream",
     "text": [
      "3/3 [==============================] - 7s 3s/step - loss: 0.2741 - accuracy: 0.7630 - val_loss: 0.2852 - val_accuracy: 0.7427\n",
      "Epoch 130/200\n",
      "3/3 [==============================] - ETA: 0s - loss: 0.2740 - accuracy: 0.7630WARNING:tensorflow:Can save best model only with val_acc available, skipping.\n"
     ]
    },
    {
     "name": "stderr",
     "output_type": "stream",
     "text": [
      "WARNING:tensorflow:Can save best model only with val_acc available, skipping.\n"
     ]
    },
    {
     "name": "stdout",
     "output_type": "stream",
     "text": [
      "3/3 [==============================] - 7s 3s/step - loss: 0.2740 - accuracy: 0.7630 - val_loss: 0.2854 - val_accuracy: 0.7427\n",
      "Epoch 131/200\n",
      "3/3 [==============================] - ETA: 0s - loss: 0.2748 - accuracy: 0.7630WARNING:tensorflow:Can save best model only with val_acc available, skipping.\n"
     ]
    },
    {
     "name": "stderr",
     "output_type": "stream",
     "text": [
      "WARNING:tensorflow:Can save best model only with val_acc available, skipping.\n"
     ]
    },
    {
     "name": "stdout",
     "output_type": "stream",
     "text": [
      "3/3 [==============================] - 8s 3s/step - loss: 0.2748 - accuracy: 0.7630 - val_loss: 0.2867 - val_accuracy: 0.7427\n",
      "Epoch 132/200\n",
      "3/3 [==============================] - ETA: 0s - loss: 0.2747 - accuracy: 0.7630WARNING:tensorflow:Can save best model only with val_acc available, skipping.\n"
     ]
    },
    {
     "name": "stderr",
     "output_type": "stream",
     "text": [
      "WARNING:tensorflow:Can save best model only with val_acc available, skipping.\n"
     ]
    },
    {
     "name": "stdout",
     "output_type": "stream",
     "text": [
      "3/3 [==============================] - 7s 3s/step - loss: 0.2747 - accuracy: 0.7630 - val_loss: 0.2853 - val_accuracy: 0.7427\n",
      "Epoch 133/200\n",
      "3/3 [==============================] - ETA: 0s - loss: 0.2736 - accuracy: 0.7630WARNING:tensorflow:Can save best model only with val_acc available, skipping.\n"
     ]
    },
    {
     "name": "stderr",
     "output_type": "stream",
     "text": [
      "WARNING:tensorflow:Can save best model only with val_acc available, skipping.\n"
     ]
    },
    {
     "name": "stdout",
     "output_type": "stream",
     "text": [
      "3/3 [==============================] - 7s 3s/step - loss: 0.2736 - accuracy: 0.7630 - val_loss: 0.2857 - val_accuracy: 0.7427\n",
      "Epoch 134/200\n",
      "3/3 [==============================] - ETA: 0s - loss: 0.2735 - accuracy: 0.7630WARNING:tensorflow:Can save best model only with val_acc available, skipping.\n"
     ]
    },
    {
     "name": "stderr",
     "output_type": "stream",
     "text": [
      "WARNING:tensorflow:Can save best model only with val_acc available, skipping.\n"
     ]
    },
    {
     "name": "stdout",
     "output_type": "stream",
     "text": [
      "3/3 [==============================] - 7s 3s/step - loss: 0.2735 - accuracy: 0.7630 - val_loss: 0.2860 - val_accuracy: 0.7427\n",
      "Epoch 135/200\n",
      "3/3 [==============================] - ETA: 0s - loss: 0.2736 - accuracy: 0.7630WARNING:tensorflow:Can save best model only with val_acc available, skipping.\n"
     ]
    },
    {
     "name": "stderr",
     "output_type": "stream",
     "text": [
      "WARNING:tensorflow:Can save best model only with val_acc available, skipping.\n"
     ]
    },
    {
     "name": "stdout",
     "output_type": "stream",
     "text": [
      "3/3 [==============================] - 7s 3s/step - loss: 0.2736 - accuracy: 0.7630 - val_loss: 0.2864 - val_accuracy: 0.7427\n",
      "Epoch 136/200\n",
      "3/3 [==============================] - ETA: 0s - loss: 0.2736 - accuracy: 0.7630WARNING:tensorflow:Can save best model only with val_acc available, skipping.\n"
     ]
    },
    {
     "name": "stderr",
     "output_type": "stream",
     "text": [
      "WARNING:tensorflow:Can save best model only with val_acc available, skipping.\n"
     ]
    },
    {
     "name": "stdout",
     "output_type": "stream",
     "text": [
      "3/3 [==============================] - 8s 3s/step - loss: 0.2736 - accuracy: 0.7630 - val_loss: 0.2861 - val_accuracy: 0.7427\n",
      "Epoch 137/200\n",
      "3/3 [==============================] - ETA: 0s - loss: 0.2748 - accuracy: 0.7630WARNING:tensorflow:Can save best model only with val_acc available, skipping.\n"
     ]
    },
    {
     "name": "stderr",
     "output_type": "stream",
     "text": [
      "WARNING:tensorflow:Can save best model only with val_acc available, skipping.\n"
     ]
    },
    {
     "name": "stdout",
     "output_type": "stream",
     "text": [
      "3/3 [==============================] - 7s 3s/step - loss: 0.2748 - accuracy: 0.7630 - val_loss: 0.2854 - val_accuracy: 0.7427\n",
      "Epoch 138/200\n",
      "3/3 [==============================] - ETA: 0s - loss: 0.2743 - accuracy: 0.7630WARNING:tensorflow:Can save best model only with val_acc available, skipping.\n"
     ]
    },
    {
     "name": "stderr",
     "output_type": "stream",
     "text": [
      "WARNING:tensorflow:Can save best model only with val_acc available, skipping.\n"
     ]
    },
    {
     "name": "stdout",
     "output_type": "stream",
     "text": [
      "3/3 [==============================] - 7s 3s/step - loss: 0.2743 - accuracy: 0.7630 - val_loss: 0.2865 - val_accuracy: 0.7427\n",
      "Epoch 139/200\n",
      "3/3 [==============================] - ETA: 0s - loss: 0.2736 - accuracy: 0.7630WARNING:tensorflow:Can save best model only with val_acc available, skipping.\n"
     ]
    },
    {
     "name": "stderr",
     "output_type": "stream",
     "text": [
      "WARNING:tensorflow:Can save best model only with val_acc available, skipping.\n"
     ]
    },
    {
     "name": "stdout",
     "output_type": "stream",
     "text": [
      "3/3 [==============================] - 8s 3s/step - loss: 0.2736 - accuracy: 0.7630 - val_loss: 0.2856 - val_accuracy: 0.7427\n",
      "Epoch 140/200\n",
      "3/3 [==============================] - ETA: 0s - loss: 0.2736 - accuracy: 0.7630WARNING:tensorflow:Can save best model only with val_acc available, skipping.\n"
     ]
    },
    {
     "name": "stderr",
     "output_type": "stream",
     "text": [
      "WARNING:tensorflow:Can save best model only with val_acc available, skipping.\n"
     ]
    },
    {
     "name": "stdout",
     "output_type": "stream",
     "text": [
      "3/3 [==============================] - 7s 3s/step - loss: 0.2736 - accuracy: 0.7630 - val_loss: 0.2854 - val_accuracy: 0.7427\n",
      "Epoch 141/200\n",
      "3/3 [==============================] - ETA: 0s - loss: 0.2734 - accuracy: 0.7630WARNING:tensorflow:Can save best model only with val_acc available, skipping.\n"
     ]
    },
    {
     "name": "stderr",
     "output_type": "stream",
     "text": [
      "WARNING:tensorflow:Can save best model only with val_acc available, skipping.\n"
     ]
    },
    {
     "name": "stdout",
     "output_type": "stream",
     "text": [
      "3/3 [==============================] - 7s 3s/step - loss: 0.2734 - accuracy: 0.7630 - val_loss: 0.2856 - val_accuracy: 0.7427\n",
      "Epoch 142/200\n",
      "3/3 [==============================] - ETA: 0s - loss: 0.2736 - accuracy: 0.7630WARNING:tensorflow:Can save best model only with val_acc available, skipping.\n"
     ]
    },
    {
     "name": "stderr",
     "output_type": "stream",
     "text": [
      "WARNING:tensorflow:Can save best model only with val_acc available, skipping.\n"
     ]
    },
    {
     "name": "stdout",
     "output_type": "stream",
     "text": [
      "3/3 [==============================] - 8s 3s/step - loss: 0.2736 - accuracy: 0.7630 - val_loss: 0.2867 - val_accuracy: 0.7427\n",
      "Epoch 143/200\n",
      "3/3 [==============================] - ETA: 0s - loss: 0.2736 - accuracy: 0.7630WARNING:tensorflow:Can save best model only with val_acc available, skipping.\n"
     ]
    },
    {
     "name": "stderr",
     "output_type": "stream",
     "text": [
      "WARNING:tensorflow:Can save best model only with val_acc available, skipping.\n"
     ]
    },
    {
     "name": "stdout",
     "output_type": "stream",
     "text": [
      "3/3 [==============================] - 7s 3s/step - loss: 0.2736 - accuracy: 0.7630 - val_loss: 0.2861 - val_accuracy: 0.7427\n",
      "Epoch 144/200\n",
      "3/3 [==============================] - ETA: 0s - loss: 0.2742 - accuracy: 0.7630WARNING:tensorflow:Can save best model only with val_acc available, skipping.\n"
     ]
    },
    {
     "name": "stderr",
     "output_type": "stream",
     "text": [
      "WARNING:tensorflow:Can save best model only with val_acc available, skipping.\n"
     ]
    },
    {
     "name": "stdout",
     "output_type": "stream",
     "text": [
      "3/3 [==============================] - 7s 3s/step - loss: 0.2742 - accuracy: 0.7630 - val_loss: 0.2856 - val_accuracy: 0.7427\n",
      "Epoch 145/200\n",
      "3/3 [==============================] - ETA: 0s - loss: 0.2748 - accuracy: 0.7630WARNING:tensorflow:Can save best model only with val_acc available, skipping.\n"
     ]
    },
    {
     "name": "stderr",
     "output_type": "stream",
     "text": [
      "WARNING:tensorflow:Can save best model only with val_acc available, skipping.\n"
     ]
    },
    {
     "name": "stdout",
     "output_type": "stream",
     "text": [
      "3/3 [==============================] - 7s 3s/step - loss: 0.2748 - accuracy: 0.7630 - val_loss: 0.2869 - val_accuracy: 0.7427\n",
      "Epoch 146/200\n",
      "3/3 [==============================] - ETA: 0s - loss: 0.2740 - accuracy: 0.7630WARNING:tensorflow:Can save best model only with val_acc available, skipping.\n"
     ]
    },
    {
     "name": "stderr",
     "output_type": "stream",
     "text": [
      "WARNING:tensorflow:Can save best model only with val_acc available, skipping.\n"
     ]
    },
    {
     "name": "stdout",
     "output_type": "stream",
     "text": [
      "3/3 [==============================] - 7s 3s/step - loss: 0.2740 - accuracy: 0.7630 - val_loss: 0.2854 - val_accuracy: 0.7427\n",
      "Epoch 147/200\n",
      "3/3 [==============================] - ETA: 0s - loss: 0.2733 - accuracy: 0.7630WARNING:tensorflow:Can save best model only with val_acc available, skipping.\n"
     ]
    },
    {
     "name": "stderr",
     "output_type": "stream",
     "text": [
      "WARNING:tensorflow:Can save best model only with val_acc available, skipping.\n"
     ]
    },
    {
     "name": "stdout",
     "output_type": "stream",
     "text": [
      "3/3 [==============================] - 7s 3s/step - loss: 0.2733 - accuracy: 0.7630 - val_loss: 0.2854 - val_accuracy: 0.7427\n",
      "Epoch 148/200\n",
      "3/3 [==============================] - ETA: 0s - loss: 0.2731 - accuracy: 0.7630WARNING:tensorflow:Can save best model only with val_acc available, skipping.\n"
     ]
    },
    {
     "name": "stderr",
     "output_type": "stream",
     "text": [
      "WARNING:tensorflow:Can save best model only with val_acc available, skipping.\n"
     ]
    },
    {
     "name": "stdout",
     "output_type": "stream",
     "text": [
      "3/3 [==============================] - 7s 3s/step - loss: 0.2731 - accuracy: 0.7630 - val_loss: 0.2860 - val_accuracy: 0.7427\n",
      "Epoch 149/200\n",
      "3/3 [==============================] - ETA: 0s - loss: 0.2731 - accuracy: 0.7630WARNING:tensorflow:Can save best model only with val_acc available, skipping.\n"
     ]
    },
    {
     "name": "stderr",
     "output_type": "stream",
     "text": [
      "WARNING:tensorflow:Can save best model only with val_acc available, skipping.\n"
     ]
    },
    {
     "name": "stdout",
     "output_type": "stream",
     "text": [
      "3/3 [==============================] - 7s 3s/step - loss: 0.2731 - accuracy: 0.7630 - val_loss: 0.2863 - val_accuracy: 0.7427\n",
      "Epoch 150/200\n",
      "3/3 [==============================] - ETA: 0s - loss: 0.2734 - accuracy: 0.7630WARNING:tensorflow:Can save best model only with val_acc available, skipping.\n"
     ]
    },
    {
     "name": "stderr",
     "output_type": "stream",
     "text": [
      "WARNING:tensorflow:Can save best model only with val_acc available, skipping.\n"
     ]
    },
    {
     "name": "stdout",
     "output_type": "stream",
     "text": [
      "3/3 [==============================] - 7s 3s/step - loss: 0.2734 - accuracy: 0.7630 - val_loss: 0.2860 - val_accuracy: 0.7427\n",
      "Epoch 151/200\n",
      "3/3 [==============================] - ETA: 0s - loss: 0.2732 - accuracy: 0.7630WARNING:tensorflow:Can save best model only with val_acc available, skipping.\n"
     ]
    },
    {
     "name": "stderr",
     "output_type": "stream",
     "text": [
      "WARNING:tensorflow:Can save best model only with val_acc available, skipping.\n"
     ]
    },
    {
     "name": "stdout",
     "output_type": "stream",
     "text": [
      "3/3 [==============================] - 8s 3s/step - loss: 0.2732 - accuracy: 0.7630 - val_loss: 0.2852 - val_accuracy: 0.7427\n",
      "Epoch 152/200\n",
      "3/3 [==============================] - ETA: 0s - loss: 0.2731 - accuracy: 0.7659WARNING:tensorflow:Can save best model only with val_acc available, skipping.\n"
     ]
    },
    {
     "name": "stderr",
     "output_type": "stream",
     "text": [
      "WARNING:tensorflow:Can save best model only with val_acc available, skipping.\n"
     ]
    },
    {
     "name": "stdout",
     "output_type": "stream",
     "text": [
      "3/3 [==============================] - 7s 3s/step - loss: 0.2731 - accuracy: 0.7659 - val_loss: 0.2855 - val_accuracy: 0.7427\n",
      "Epoch 153/200\n",
      "3/3 [==============================] - ETA: 0s - loss: 0.2733 - accuracy: 0.7659WARNING:tensorflow:Can save best model only with val_acc available, skipping.\n"
     ]
    },
    {
     "name": "stderr",
     "output_type": "stream",
     "text": [
      "WARNING:tensorflow:Can save best model only with val_acc available, skipping.\n"
     ]
    },
    {
     "name": "stdout",
     "output_type": "stream",
     "text": [
      "3/3 [==============================] - 8s 3s/step - loss: 0.2733 - accuracy: 0.7659 - val_loss: 0.2859 - val_accuracy: 0.7427\n",
      "Epoch 154/200\n",
      "3/3 [==============================] - ETA: 0s - loss: 0.2726 - accuracy: 0.7659WARNING:tensorflow:Can save best model only with val_acc available, skipping.\n"
     ]
    },
    {
     "name": "stderr",
     "output_type": "stream",
     "text": [
      "WARNING:tensorflow:Can save best model only with val_acc available, skipping.\n"
     ]
    },
    {
     "name": "stdout",
     "output_type": "stream",
     "text": [
      "3/3 [==============================] - 7s 3s/step - loss: 0.2726 - accuracy: 0.7659 - val_loss: 0.2869 - val_accuracy: 0.7427\n",
      "Epoch 155/200\n",
      "3/3 [==============================] - ETA: 0s - loss: 0.2731 - accuracy: 0.7659WARNING:tensorflow:Can save best model only with val_acc available, skipping.\n"
     ]
    },
    {
     "name": "stderr",
     "output_type": "stream",
     "text": [
      "WARNING:tensorflow:Can save best model only with val_acc available, skipping.\n"
     ]
    },
    {
     "name": "stdout",
     "output_type": "stream",
     "text": [
      "3/3 [==============================] - 7s 2s/step - loss: 0.2731 - accuracy: 0.7659 - val_loss: 0.2860 - val_accuracy: 0.7427\n",
      "Epoch 156/200\n",
      "3/3 [==============================] - ETA: 0s - loss: 0.2727 - accuracy: 0.7659WARNING:tensorflow:Can save best model only with val_acc available, skipping.\n"
     ]
    },
    {
     "name": "stderr",
     "output_type": "stream",
     "text": [
      "WARNING:tensorflow:Can save best model only with val_acc available, skipping.\n"
     ]
    },
    {
     "name": "stdout",
     "output_type": "stream",
     "text": [
      "3/3 [==============================] - 7s 2s/step - loss: 0.2727 - accuracy: 0.7659 - val_loss: 0.2859 - val_accuracy: 0.7427\n",
      "Epoch 157/200\n",
      "3/3 [==============================] - ETA: 0s - loss: 0.2723 - accuracy: 0.7659WARNING:tensorflow:Can save best model only with val_acc available, skipping.\n"
     ]
    },
    {
     "name": "stderr",
     "output_type": "stream",
     "text": [
      "WARNING:tensorflow:Can save best model only with val_acc available, skipping.\n"
     ]
    },
    {
     "name": "stdout",
     "output_type": "stream",
     "text": [
      "3/3 [==============================] - 7s 3s/step - loss: 0.2723 - accuracy: 0.7659 - val_loss: 0.2866 - val_accuracy: 0.7427\n",
      "Epoch 158/200\n",
      "3/3 [==============================] - ETA: 0s - loss: 0.2725 - accuracy: 0.7659WARNING:tensorflow:Can save best model only with val_acc available, skipping.\n"
     ]
    },
    {
     "name": "stderr",
     "output_type": "stream",
     "text": [
      "WARNING:tensorflow:Can save best model only with val_acc available, skipping.\n"
     ]
    },
    {
     "name": "stdout",
     "output_type": "stream",
     "text": [
      "3/3 [==============================] - 7s 2s/step - loss: 0.2725 - accuracy: 0.7659 - val_loss: 0.2857 - val_accuracy: 0.7427\n",
      "Epoch 159/200\n",
      "3/3 [==============================] - ETA: 0s - loss: 0.3667 - accuracy: 0.6416WARNING:tensorflow:Can save best model only with val_acc available, skipping.\n"
     ]
    },
    {
     "name": "stderr",
     "output_type": "stream",
     "text": [
      "WARNING:tensorflow:Can save best model only with val_acc available, skipping.\n"
     ]
    },
    {
     "name": "stdout",
     "output_type": "stream",
     "text": [
      "3/3 [==============================] - 7s 3s/step - loss: 0.3667 - accuracy: 0.6416 - val_loss: 0.2885 - val_accuracy: 0.7427\n",
      "Epoch 160/200\n",
      "3/3 [==============================] - ETA: 0s - loss: 0.2816 - accuracy: 0.7630WARNING:tensorflow:Can save best model only with val_acc available, skipping.\n"
     ]
    },
    {
     "name": "stderr",
     "output_type": "stream",
     "text": [
      "WARNING:tensorflow:Can save best model only with val_acc available, skipping.\n"
     ]
    },
    {
     "name": "stdout",
     "output_type": "stream",
     "text": [
      "3/3 [==============================] - 7s 3s/step - loss: 0.2816 - accuracy: 0.7630 - val_loss: 0.2974 - val_accuracy: 0.7427\n",
      "Epoch 161/200\n",
      "3/3 [==============================] - ETA: 0s - loss: 0.2820 - accuracy: 0.7630WARNING:tensorflow:Can save best model only with val_acc available, skipping.\n"
     ]
    },
    {
     "name": "stderr",
     "output_type": "stream",
     "text": [
      "WARNING:tensorflow:Can save best model only with val_acc available, skipping.\n"
     ]
    },
    {
     "name": "stdout",
     "output_type": "stream",
     "text": [
      "3/3 [==============================] - 7s 2s/step - loss: 0.2820 - accuracy: 0.7630 - val_loss: 0.2897 - val_accuracy: 0.7427\n",
      "Epoch 162/200\n",
      "3/3 [==============================] - ETA: 0s - loss: 0.2816 - accuracy: 0.7601WARNING:tensorflow:Can save best model only with val_acc available, skipping.\n"
     ]
    },
    {
     "name": "stderr",
     "output_type": "stream",
     "text": [
      "WARNING:tensorflow:Can save best model only with val_acc available, skipping.\n"
     ]
    },
    {
     "name": "stdout",
     "output_type": "stream",
     "text": [
      "3/3 [==============================] - 7s 2s/step - loss: 0.2816 - accuracy: 0.7601 - val_loss: 0.2876 - val_accuracy: 0.7427\n",
      "Epoch 163/200\n",
      "3/3 [==============================] - ETA: 0s - loss: 0.2818 - accuracy: 0.7572WARNING:tensorflow:Can save best model only with val_acc available, skipping.\n"
     ]
    },
    {
     "name": "stderr",
     "output_type": "stream",
     "text": [
      "WARNING:tensorflow:Can save best model only with val_acc available, skipping.\n"
     ]
    },
    {
     "name": "stdout",
     "output_type": "stream",
     "text": [
      "3/3 [==============================] - 7s 2s/step - loss: 0.2818 - accuracy: 0.7572 - val_loss: 0.2888 - val_accuracy: 0.7368\n",
      "Epoch 164/200\n",
      "3/3 [==============================] - ETA: 0s - loss: 0.2817 - accuracy: 0.7572WARNING:tensorflow:Can save best model only with val_acc available, skipping.\n"
     ]
    },
    {
     "name": "stderr",
     "output_type": "stream",
     "text": [
      "WARNING:tensorflow:Can save best model only with val_acc available, skipping.\n"
     ]
    },
    {
     "name": "stdout",
     "output_type": "stream",
     "text": [
      "3/3 [==============================] - 7s 2s/step - loss: 0.2817 - accuracy: 0.7572 - val_loss: 0.2893 - val_accuracy: 0.7368\n",
      "Epoch 165/200\n",
      "3/3 [==============================] - ETA: 0s - loss: 0.2785 - accuracy: 0.7601WARNING:tensorflow:Can save best model only with val_acc available, skipping.\n"
     ]
    },
    {
     "name": "stderr",
     "output_type": "stream",
     "text": [
      "WARNING:tensorflow:Can save best model only with val_acc available, skipping.\n"
     ]
    },
    {
     "name": "stdout",
     "output_type": "stream",
     "text": [
      "3/3 [==============================] - 7s 2s/step - loss: 0.2785 - accuracy: 0.7601 - val_loss: 0.2906 - val_accuracy: 0.7368\n",
      "Epoch 166/200\n",
      "3/3 [==============================] - ETA: 0s - loss: 0.2782 - accuracy: 0.7601WARNING:tensorflow:Can save best model only with val_acc available, skipping.\n"
     ]
    },
    {
     "name": "stderr",
     "output_type": "stream",
     "text": [
      "WARNING:tensorflow:Can save best model only with val_acc available, skipping.\n"
     ]
    },
    {
     "name": "stdout",
     "output_type": "stream",
     "text": [
      "3/3 [==============================] - 7s 2s/step - loss: 0.2782 - accuracy: 0.7601 - val_loss: 0.2900 - val_accuracy: 0.7368\n",
      "Epoch 167/200\n",
      "3/3 [==============================] - ETA: 0s - loss: 0.2758 - accuracy: 0.7630WARNING:tensorflow:Can save best model only with val_acc available, skipping.\n"
     ]
    },
    {
     "name": "stderr",
     "output_type": "stream",
     "text": [
      "WARNING:tensorflow:Can save best model only with val_acc available, skipping.\n"
     ]
    },
    {
     "name": "stdout",
     "output_type": "stream",
     "text": [
      "3/3 [==============================] - 7s 2s/step - loss: 0.2758 - accuracy: 0.7630 - val_loss: 0.2864 - val_accuracy: 0.7427\n",
      "Epoch 168/200\n",
      "3/3 [==============================] - ETA: 0s - loss: 0.2759 - accuracy: 0.7630WARNING:tensorflow:Can save best model only with val_acc available, skipping.\n"
     ]
    },
    {
     "name": "stderr",
     "output_type": "stream",
     "text": [
      "WARNING:tensorflow:Can save best model only with val_acc available, skipping.\n"
     ]
    },
    {
     "name": "stdout",
     "output_type": "stream",
     "text": [
      "3/3 [==============================] - 8s 3s/step - loss: 0.2759 - accuracy: 0.7630 - val_loss: 0.2870 - val_accuracy: 0.7427\n",
      "Epoch 169/200\n",
      "3/3 [==============================] - ETA: 0s - loss: 0.2753 - accuracy: 0.7630WARNING:tensorflow:Can save best model only with val_acc available, skipping.\n"
     ]
    },
    {
     "name": "stderr",
     "output_type": "stream",
     "text": [
      "WARNING:tensorflow:Can save best model only with val_acc available, skipping.\n"
     ]
    },
    {
     "name": "stdout",
     "output_type": "stream",
     "text": [
      "3/3 [==============================] - 7s 2s/step - loss: 0.2753 - accuracy: 0.7630 - val_loss: 0.2860 - val_accuracy: 0.7427\n",
      "Epoch 170/200\n",
      "3/3 [==============================] - ETA: 0s - loss: 0.2749 - accuracy: 0.7630WARNING:tensorflow:Can save best model only with val_acc available, skipping.\n"
     ]
    },
    {
     "name": "stderr",
     "output_type": "stream",
     "text": [
      "WARNING:tensorflow:Can save best model only with val_acc available, skipping.\n"
     ]
    },
    {
     "name": "stdout",
     "output_type": "stream",
     "text": [
      "3/3 [==============================] - 7s 3s/step - loss: 0.2749 - accuracy: 0.7630 - val_loss: 0.2858 - val_accuracy: 0.7427\n",
      "Epoch 171/200\n",
      "3/3 [==============================] - ETA: 0s - loss: 0.2751 - accuracy: 0.7630WARNING:tensorflow:Can save best model only with val_acc available, skipping.\n"
     ]
    },
    {
     "name": "stderr",
     "output_type": "stream",
     "text": [
      "WARNING:tensorflow:Can save best model only with val_acc available, skipping.\n"
     ]
    },
    {
     "name": "stdout",
     "output_type": "stream",
     "text": [
      "3/3 [==============================] - 7s 2s/step - loss: 0.2751 - accuracy: 0.7630 - val_loss: 0.2859 - val_accuracy: 0.7427\n",
      "Epoch 172/200\n",
      "3/3 [==============================] - ETA: 0s - loss: 0.2748 - accuracy: 0.7630WARNING:tensorflow:Can save best model only with val_acc available, skipping.\n"
     ]
    },
    {
     "name": "stderr",
     "output_type": "stream",
     "text": [
      "WARNING:tensorflow:Can save best model only with val_acc available, skipping.\n"
     ]
    },
    {
     "name": "stdout",
     "output_type": "stream",
     "text": [
      "3/3 [==============================] - 7s 3s/step - loss: 0.2748 - accuracy: 0.7630 - val_loss: 0.2857 - val_accuracy: 0.7427\n",
      "Epoch 173/200\n",
      "3/3 [==============================] - ETA: 0s - loss: 0.2748 - accuracy: 0.7630WARNING:tensorflow:Can save best model only with val_acc available, skipping.\n"
     ]
    },
    {
     "name": "stderr",
     "output_type": "stream",
     "text": [
      "WARNING:tensorflow:Can save best model only with val_acc available, skipping.\n"
     ]
    },
    {
     "name": "stdout",
     "output_type": "stream",
     "text": [
      "3/3 [==============================] - 7s 3s/step - loss: 0.2748 - accuracy: 0.7630 - val_loss: 0.2861 - val_accuracy: 0.7427\n",
      "Epoch 174/200\n",
      "3/3 [==============================] - ETA: 0s - loss: 0.2745 - accuracy: 0.7630WARNING:tensorflow:Can save best model only with val_acc available, skipping.\n"
     ]
    },
    {
     "name": "stderr",
     "output_type": "stream",
     "text": [
      "WARNING:tensorflow:Can save best model only with val_acc available, skipping.\n"
     ]
    },
    {
     "name": "stdout",
     "output_type": "stream",
     "text": [
      "3/3 [==============================] - 7s 2s/step - loss: 0.2745 - accuracy: 0.7630 - val_loss: 0.2860 - val_accuracy: 0.7427\n",
      "Epoch 175/200\n",
      "3/3 [==============================] - ETA: 0s - loss: 0.2744 - accuracy: 0.7630WARNING:tensorflow:Can save best model only with val_acc available, skipping.\n"
     ]
    },
    {
     "name": "stderr",
     "output_type": "stream",
     "text": [
      "WARNING:tensorflow:Can save best model only with val_acc available, skipping.\n"
     ]
    },
    {
     "name": "stdout",
     "output_type": "stream",
     "text": [
      "3/3 [==============================] - 7s 3s/step - loss: 0.2744 - accuracy: 0.7630 - val_loss: 0.2861 - val_accuracy: 0.7427\n",
      "Epoch 176/200\n",
      "3/3 [==============================] - ETA: 0s - loss: 0.2746 - accuracy: 0.7630WARNING:tensorflow:Can save best model only with val_acc available, skipping.\n"
     ]
    },
    {
     "name": "stderr",
     "output_type": "stream",
     "text": [
      "WARNING:tensorflow:Can save best model only with val_acc available, skipping.\n"
     ]
    },
    {
     "name": "stdout",
     "output_type": "stream",
     "text": [
      "3/3 [==============================] - 7s 2s/step - loss: 0.2746 - accuracy: 0.7630 - val_loss: 0.2858 - val_accuracy: 0.7427\n",
      "Epoch 177/200\n",
      "3/3 [==============================] - ETA: 0s - loss: 0.2743 - accuracy: 0.7630WARNING:tensorflow:Can save best model only with val_acc available, skipping.\n"
     ]
    },
    {
     "name": "stderr",
     "output_type": "stream",
     "text": [
      "WARNING:tensorflow:Can save best model only with val_acc available, skipping.\n"
     ]
    },
    {
     "name": "stdout",
     "output_type": "stream",
     "text": [
      "3/3 [==============================] - 7s 3s/step - loss: 0.2743 - accuracy: 0.7630 - val_loss: 0.2863 - val_accuracy: 0.7427\n",
      "Epoch 178/200\n",
      "3/3 [==============================] - ETA: 0s - loss: 0.2743 - accuracy: 0.7630WARNING:tensorflow:Can save best model only with val_acc available, skipping.\n"
     ]
    },
    {
     "name": "stderr",
     "output_type": "stream",
     "text": [
      "WARNING:tensorflow:Can save best model only with val_acc available, skipping.\n"
     ]
    },
    {
     "name": "stdout",
     "output_type": "stream",
     "text": [
      "3/3 [==============================] - 7s 3s/step - loss: 0.2743 - accuracy: 0.7630 - val_loss: 0.2866 - val_accuracy: 0.7427\n",
      "Epoch 179/200\n",
      "3/3 [==============================] - ETA: 0s - loss: 0.2742 - accuracy: 0.7630WARNING:tensorflow:Can save best model only with val_acc available, skipping.\n"
     ]
    },
    {
     "name": "stderr",
     "output_type": "stream",
     "text": [
      "WARNING:tensorflow:Can save best model only with val_acc available, skipping.\n"
     ]
    },
    {
     "name": "stdout",
     "output_type": "stream",
     "text": [
      "3/3 [==============================] - 7s 3s/step - loss: 0.2742 - accuracy: 0.7630 - val_loss: 0.2860 - val_accuracy: 0.7427\n",
      "Epoch 180/200\n",
      "3/3 [==============================] - ETA: 0s - loss: 0.2746 - accuracy: 0.7630WARNING:tensorflow:Can save best model only with val_acc available, skipping.\n"
     ]
    },
    {
     "name": "stderr",
     "output_type": "stream",
     "text": [
      "WARNING:tensorflow:Can save best model only with val_acc available, skipping.\n"
     ]
    },
    {
     "name": "stdout",
     "output_type": "stream",
     "text": [
      "3/3 [==============================] - 7s 3s/step - loss: 0.2746 - accuracy: 0.7630 - val_loss: 0.2856 - val_accuracy: 0.7427\n",
      "Epoch 181/200\n",
      "3/3 [==============================] - ETA: 0s - loss: 0.2741 - accuracy: 0.7630WARNING:tensorflow:Can save best model only with val_acc available, skipping.\n"
     ]
    },
    {
     "name": "stderr",
     "output_type": "stream",
     "text": [
      "WARNING:tensorflow:Can save best model only with val_acc available, skipping.\n"
     ]
    },
    {
     "name": "stdout",
     "output_type": "stream",
     "text": [
      "3/3 [==============================] - 7s 3s/step - loss: 0.2741 - accuracy: 0.7630 - val_loss: 0.2859 - val_accuracy: 0.7427\n",
      "Epoch 182/200\n",
      "3/3 [==============================] - ETA: 0s - loss: 0.2739 - accuracy: 0.7630WARNING:tensorflow:Can save best model only with val_acc available, skipping.\n"
     ]
    },
    {
     "name": "stderr",
     "output_type": "stream",
     "text": [
      "WARNING:tensorflow:Can save best model only with val_acc available, skipping.\n"
     ]
    },
    {
     "name": "stdout",
     "output_type": "stream",
     "text": [
      "3/3 [==============================] - 7s 2s/step - loss: 0.2739 - accuracy: 0.7630 - val_loss: 0.2863 - val_accuracy: 0.7427\n",
      "Epoch 183/200\n",
      "3/3 [==============================] - ETA: 0s - loss: 0.2743 - accuracy: 0.7630WARNING:tensorflow:Can save best model only with val_acc available, skipping.\n"
     ]
    },
    {
     "name": "stderr",
     "output_type": "stream",
     "text": [
      "WARNING:tensorflow:Can save best model only with val_acc available, skipping.\n"
     ]
    },
    {
     "name": "stdout",
     "output_type": "stream",
     "text": [
      "3/3 [==============================] - 7s 2s/step - loss: 0.2743 - accuracy: 0.7630 - val_loss: 0.2869 - val_accuracy: 0.7427\n",
      "Epoch 184/200\n",
      "3/3 [==============================] - ETA: 0s - loss: 0.2745 - accuracy: 0.7630WARNING:tensorflow:Can save best model only with val_acc available, skipping.\n"
     ]
    },
    {
     "name": "stderr",
     "output_type": "stream",
     "text": [
      "WARNING:tensorflow:Can save best model only with val_acc available, skipping.\n"
     ]
    },
    {
     "name": "stdout",
     "output_type": "stream",
     "text": [
      "3/3 [==============================] - 7s 2s/step - loss: 0.2745 - accuracy: 0.7630 - val_loss: 0.2868 - val_accuracy: 0.7427\n",
      "Epoch 185/200\n",
      "3/3 [==============================] - ETA: 0s - loss: 0.2741 - accuracy: 0.7630WARNING:tensorflow:Can save best model only with val_acc available, skipping.\n"
     ]
    },
    {
     "name": "stderr",
     "output_type": "stream",
     "text": [
      "WARNING:tensorflow:Can save best model only with val_acc available, skipping.\n"
     ]
    },
    {
     "name": "stdout",
     "output_type": "stream",
     "text": [
      "3/3 [==============================] - 7s 3s/step - loss: 0.2741 - accuracy: 0.7630 - val_loss: 0.2856 - val_accuracy: 0.7427\n",
      "Epoch 186/200\n",
      "3/3 [==============================] - ETA: 0s - loss: 0.2744 - accuracy: 0.7630WARNING:tensorflow:Can save best model only with val_acc available, skipping.\n"
     ]
    },
    {
     "name": "stderr",
     "output_type": "stream",
     "text": [
      "WARNING:tensorflow:Can save best model only with val_acc available, skipping.\n"
     ]
    },
    {
     "name": "stdout",
     "output_type": "stream",
     "text": [
      "3/3 [==============================] - 7s 3s/step - loss: 0.2744 - accuracy: 0.7630 - val_loss: 0.2853 - val_accuracy: 0.7427\n",
      "Epoch 187/200\n",
      "3/3 [==============================] - ETA: 0s - loss: 0.2744 - accuracy: 0.7630WARNING:tensorflow:Can save best model only with val_acc available, skipping.\n"
     ]
    },
    {
     "name": "stderr",
     "output_type": "stream",
     "text": [
      "WARNING:tensorflow:Can save best model only with val_acc available, skipping.\n"
     ]
    },
    {
     "name": "stdout",
     "output_type": "stream",
     "text": [
      "3/3 [==============================] - 7s 2s/step - loss: 0.2744 - accuracy: 0.7630 - val_loss: 0.2855 - val_accuracy: 0.7427\n",
      "Epoch 188/200\n",
      "3/3 [==============================] - ETA: 0s - loss: 0.2737 - accuracy: 0.7630WARNING:tensorflow:Can save best model only with val_acc available, skipping.\n"
     ]
    },
    {
     "name": "stderr",
     "output_type": "stream",
     "text": [
      "WARNING:tensorflow:Can save best model only with val_acc available, skipping.\n"
     ]
    },
    {
     "name": "stdout",
     "output_type": "stream",
     "text": [
      "3/3 [==============================] - 6s 2s/step - loss: 0.2737 - accuracy: 0.7630 - val_loss: 0.2859 - val_accuracy: 0.7427\n",
      "Epoch 189/200\n",
      "3/3 [==============================] - ETA: 0s - loss: 0.2737 - accuracy: 0.7630WARNING:tensorflow:Can save best model only with val_acc available, skipping.\n"
     ]
    },
    {
     "name": "stderr",
     "output_type": "stream",
     "text": [
      "WARNING:tensorflow:Can save best model only with val_acc available, skipping.\n"
     ]
    },
    {
     "name": "stdout",
     "output_type": "stream",
     "text": [
      "3/3 [==============================] - 7s 2s/step - loss: 0.2737 - accuracy: 0.7630 - val_loss: 0.2866 - val_accuracy: 0.7427\n",
      "Epoch 190/200\n",
      "3/3 [==============================] - ETA: 0s - loss: 0.2740 - accuracy: 0.7630WARNING:tensorflow:Can save best model only with val_acc available, skipping.\n"
     ]
    },
    {
     "name": "stderr",
     "output_type": "stream",
     "text": [
      "WARNING:tensorflow:Can save best model only with val_acc available, skipping.\n"
     ]
    },
    {
     "name": "stdout",
     "output_type": "stream",
     "text": [
      "3/3 [==============================] - 7s 2s/step - loss: 0.2740 - accuracy: 0.7630 - val_loss: 0.2870 - val_accuracy: 0.7427\n",
      "Epoch 191/200\n",
      "3/3 [==============================] - ETA: 0s - loss: 0.2738 - accuracy: 0.7630WARNING:tensorflow:Can save best model only with val_acc available, skipping.\n"
     ]
    },
    {
     "name": "stderr",
     "output_type": "stream",
     "text": [
      "WARNING:tensorflow:Can save best model only with val_acc available, skipping.\n"
     ]
    },
    {
     "name": "stdout",
     "output_type": "stream",
     "text": [
      "3/3 [==============================] - 7s 2s/step - loss: 0.2738 - accuracy: 0.7630 - val_loss: 0.2863 - val_accuracy: 0.7427\n",
      "Epoch 192/200\n",
      "3/3 [==============================] - ETA: 0s - loss: 0.2737 - accuracy: 0.7630WARNING:tensorflow:Can save best model only with val_acc available, skipping.\n"
     ]
    },
    {
     "name": "stderr",
     "output_type": "stream",
     "text": [
      "WARNING:tensorflow:Can save best model only with val_acc available, skipping.\n"
     ]
    },
    {
     "name": "stdout",
     "output_type": "stream",
     "text": [
      "3/3 [==============================] - 6s 2s/step - loss: 0.2737 - accuracy: 0.7630 - val_loss: 0.2857 - val_accuracy: 0.7427\n",
      "Epoch 193/200\n",
      "3/3 [==============================] - ETA: 0s - loss: 0.2738 - accuracy: 0.7630WARNING:tensorflow:Can save best model only with val_acc available, skipping.\n"
     ]
    },
    {
     "name": "stderr",
     "output_type": "stream",
     "text": [
      "WARNING:tensorflow:Can save best model only with val_acc available, skipping.\n"
     ]
    },
    {
     "name": "stdout",
     "output_type": "stream",
     "text": [
      "3/3 [==============================] - 7s 2s/step - loss: 0.2738 - accuracy: 0.7630 - val_loss: 0.2856 - val_accuracy: 0.7427\n",
      "Epoch 194/200\n",
      "3/3 [==============================] - ETA: 0s - loss: 0.2736 - accuracy: 0.7630WARNING:tensorflow:Can save best model only with val_acc available, skipping.\n"
     ]
    },
    {
     "name": "stderr",
     "output_type": "stream",
     "text": [
      "WARNING:tensorflow:Can save best model only with val_acc available, skipping.\n"
     ]
    },
    {
     "name": "stdout",
     "output_type": "stream",
     "text": [
      "3/3 [==============================] - 7s 2s/step - loss: 0.2736 - accuracy: 0.7630 - val_loss: 0.2854 - val_accuracy: 0.7427\n",
      "Epoch 195/200\n",
      "3/3 [==============================] - ETA: 0s - loss: 0.2738 - accuracy: 0.7630WARNING:tensorflow:Can save best model only with val_acc available, skipping.\n"
     ]
    },
    {
     "name": "stderr",
     "output_type": "stream",
     "text": [
      "WARNING:tensorflow:Can save best model only with val_acc available, skipping.\n"
     ]
    },
    {
     "name": "stdout",
     "output_type": "stream",
     "text": [
      "3/3 [==============================] - 7s 3s/step - loss: 0.2738 - accuracy: 0.7630 - val_loss: 0.2854 - val_accuracy: 0.7427\n",
      "Epoch 196/200\n",
      "3/3 [==============================] - ETA: 0s - loss: 0.2740 - accuracy: 0.7630WARNING:tensorflow:Can save best model only with val_acc available, skipping.\n"
     ]
    },
    {
     "name": "stderr",
     "output_type": "stream",
     "text": [
      "WARNING:tensorflow:Can save best model only with val_acc available, skipping.\n"
     ]
    },
    {
     "name": "stdout",
     "output_type": "stream",
     "text": [
      "3/3 [==============================] - 7s 3s/step - loss: 0.2740 - accuracy: 0.7630 - val_loss: 0.2858 - val_accuracy: 0.7427\n",
      "Epoch 197/200\n",
      "3/3 [==============================] - ETA: 0s - loss: 0.2736 - accuracy: 0.7630WARNING:tensorflow:Can save best model only with val_acc available, skipping.\n"
     ]
    },
    {
     "name": "stderr",
     "output_type": "stream",
     "text": [
      "WARNING:tensorflow:Can save best model only with val_acc available, skipping.\n"
     ]
    },
    {
     "name": "stdout",
     "output_type": "stream",
     "text": [
      "3/3 [==============================] - 7s 3s/step - loss: 0.2736 - accuracy: 0.7630 - val_loss: 0.2858 - val_accuracy: 0.7427\n",
      "Epoch 198/200\n",
      "3/3 [==============================] - ETA: 0s - loss: 0.2744 - accuracy: 0.7630WARNING:tensorflow:Can save best model only with val_acc available, skipping.\n"
     ]
    },
    {
     "name": "stderr",
     "output_type": "stream",
     "text": [
      "WARNING:tensorflow:Can save best model only with val_acc available, skipping.\n"
     ]
    },
    {
     "name": "stdout",
     "output_type": "stream",
     "text": [
      "3/3 [==============================] - 7s 2s/step - loss: 0.2744 - accuracy: 0.7630 - val_loss: 0.2856 - val_accuracy: 0.7427\n",
      "Epoch 199/200\n",
      "3/3 [==============================] - ETA: 0s - loss: 0.2737 - accuracy: 0.7630WARNING:tensorflow:Can save best model only with val_acc available, skipping.\n"
     ]
    },
    {
     "name": "stderr",
     "output_type": "stream",
     "text": [
      "WARNING:tensorflow:Can save best model only with val_acc available, skipping.\n"
     ]
    },
    {
     "name": "stdout",
     "output_type": "stream",
     "text": [
      "3/3 [==============================] - 7s 3s/step - loss: 0.2737 - accuracy: 0.7630 - val_loss: 0.2866 - val_accuracy: 0.7427\n",
      "Epoch 200/200\n",
      "3/3 [==============================] - ETA: 0s - loss: 0.2737 - accuracy: 0.7630WARNING:tensorflow:Can save best model only with val_acc available, skipping.\n"
     ]
    },
    {
     "name": "stderr",
     "output_type": "stream",
     "text": [
      "WARNING:tensorflow:Can save best model only with val_acc available, skipping.\n"
     ]
    },
    {
     "name": "stdout",
     "output_type": "stream",
     "text": [
      "3/3 [==============================] - 7s 2s/step - loss: 0.2737 - accuracy: 0.7630 - val_loss: 0.2867 - val_accuracy: 0.7427\n"
     ]
    },
    {
     "data": {
      "text/plain": [
       "<keras.src.callbacks.History at 0x2edeb8610>"
      ]
     },
     "execution_count": 235,
     "metadata": {},
     "output_type": "execute_result"
    }
   ],
   "source": [
    "from tensorflow.keras.optimizers import Adam\n",
    "from tensorflow.keras.callbacks import ModelCheckpoint\n",
    "\n",
    "model = Sequential()\n",
    "model.add(LSTM(256, input_shape=(max_seq_size, 6)))\n",
    "model.add(Dense(4, activation='sigmoid'))\n",
    "model.summary()\n",
    "\n",
    "adam = Adam(lr=0.1)\n",
    "chk = ModelCheckpoint('best_model.pkl', monitor='val_acc', \n",
    "                      save_best_only=True, mode='max', verbose=1)\n",
    "model.compile(loss='binary_crossentropy', optimizer=adam, metrics=['accuracy'])\n",
    "model.fit(X_train, y_train, epochs=200, batch_size=128, \n",
    "          callbacks=[chk], validation_data=(X_test, y_test))\n"
   ]
  },
  {
   "cell_type": "code",
   "execution_count": null,
   "id": "ed360e36-1519-4b43-bb7b-1e366e2625b3",
   "metadata": {},
   "outputs": [],
   "source": []
  }
 ],
 "metadata": {
  "kernelspec": {
   "display_name": "Python 3 (ipykernel)",
   "language": "python",
   "name": "python3"
  },
  "language_info": {
   "codemirror_mode": {
    "name": "ipython",
    "version": 3
   },
   "file_extension": ".py",
   "mimetype": "text/x-python",
   "name": "python",
   "nbconvert_exporter": "python",
   "pygments_lexer": "ipython3",
   "version": "3.11.7"
  }
 },
 "nbformat": 4,
 "nbformat_minor": 5
}
